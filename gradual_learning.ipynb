{
  "cells": [
    {
      "cell_type": "markdown",
      "metadata": {
        "id": "view-in-github",
        "colab_type": "text"
      },
      "source": [
        "<a href=\"https://colab.research.google.com/github/Arashfd75/Gradual_Learning_Colorization/blob/main/gradual_learning.ipynb\" target=\"_parent\"><img src=\"https://colab.research.google.com/assets/colab-badge.svg\" alt=\"Open In Colab\"/></a>"
      ]
    },
    {
      "cell_type": "markdown",
      "metadata": {
        "id": "SWI5uvYnHVI3"
      },
      "source": [
        "# Imports"
      ]
    },
    {
      "cell_type": "code",
      "execution_count": null,
      "metadata": {
        "colab": {
          "base_uri": "https://localhost:8080/"
        },
        "id": "UNjMmL49jL1N",
        "outputId": "6ef4df06-c65a-4c07-f29c-109532d35d16"
      },
      "outputs": [
        {
          "output_type": "stream",
          "name": "stdout",
          "text": [
            "Num GPUs Available:  0\n"
          ]
        }
      ],
      "source": [
        "from keras.layers import Conv2D, Conv2DTranspose, UpSampling2D,Conv1D, ReLU, ZeroPadding2D, SeparableConv2D,GlobalAveragePooling2D\n",
        "from keras.layers import Activation, Dense, Dropout, Flatten, InputLayer, Add,MaxPooling2D\n",
        "# from keras.layers.normalization import BatchNormalization\n",
        "from tensorflow.keras.layers import BatchNormalization\n",
        "from keras.callbacks import TensorBoard\n",
        "from keras.models import Sequential, load_model\n",
        "from keras.preprocessing.image import ImageDataGenerator, array_to_img, img_to_array, load_img\n",
        "from skimage.color import rgb2lab, lab2rgb, rgb2gray,gray2rgb\n",
        "from skimage.io import imsave, imread\n",
        "from skimage.io import imshow\n",
        "from skimage.transform import resize\n",
        "from skimage.util import random_noise\n",
        "from keras.layers import Input, Reshape, merge, concatenate\n",
        "from keras.models import Sequential, Model\n",
        "from keras.layers import RepeatVector\n",
        "import numpy as np\n",
        "import os\n",
        "import random\n",
        "import tensorflow as tf\n",
        "from tqdm import tqdm\n",
        "import matplotlib.pyplot as plt\n",
        "from skimage.metrics import structural_similarity as sk_ssim, peak_signal_noise_ratio as sk_psnr\n",
        "# import tf.keras.layers.BatchNormalization as Batch_Norm\n",
        "from pathlib import Path\n",
        "print(\"Num GPUs Available: \", len(tf.config.list_physical_devices('GPU')))\n",
        "from keras.utils.vis_utils import plot_model\n",
        "from functools import lru_cache\n",
        "\n"
      ]
    },
    {
      "cell_type": "code",
      "execution_count": null,
      "metadata": {
        "colab": {
          "base_uri": "https://localhost:8080/"
        },
        "id": "EZWVjcJwCL1y",
        "outputId": "64557090-92e8-4f15-e602-8644b164e131"
      },
      "outputs": [
        {
          "name": "stdout",
          "output_type": "stream",
          "text": [
            "Tue Jan 25 16:39:15 2022       \n",
            "+-----------------------------------------------------------------------------+\n",
            "| NVIDIA-SMI 495.46       Driver Version: 460.32.03    CUDA Version: 11.2     |\n",
            "|-------------------------------+----------------------+----------------------+\n",
            "| GPU  Name        Persistence-M| Bus-Id        Disp.A | Volatile Uncorr. ECC |\n",
            "| Fan  Temp  Perf  Pwr:Usage/Cap|         Memory-Usage | GPU-Util  Compute M. |\n",
            "|                               |                      |               MIG M. |\n",
            "|===============================+======================+======================|\n",
            "|   0  Tesla P100-PCIE...  Off  | 00000000:00:04.0 Off |                    0 |\n",
            "| N/A   35C    P0    26W / 250W |      2MiB / 16280MiB |      0%      Default |\n",
            "|                               |                      |                  N/A |\n",
            "+-------------------------------+----------------------+----------------------+\n",
            "                                                                               \n",
            "+-----------------------------------------------------------------------------+\n",
            "| Processes:                                                                  |\n",
            "|  GPU   GI   CI        PID   Type   Process name                  GPU Memory |\n",
            "|        ID   ID                                                   Usage      |\n",
            "|=============================================================================|\n",
            "|  No running processes found                                                 |\n",
            "+-----------------------------------------------------------------------------+\n",
            "Your runtime has 13.6 gigabytes of available RAM\n",
            "\n",
            "Not using a high-RAM runtime\n"
          ]
        }
      ],
      "source": [
        "gpu_info = !nvidia-smi\n",
        "gpu_info = '\\n'.join(gpu_info)\n",
        "if gpu_info.find('failed') >= 0:\n",
        "  print('Not connected to a GPU')\n",
        "else:\n",
        "  print(gpu_info)\n",
        "\n",
        "from psutil import virtual_memory\n",
        "ram_gb = virtual_memory().total / 1e9\n",
        "print('Your runtime has {:.1f} gigabytes of available RAM\\n'.format(ram_gb))\n",
        "\n",
        "if ram_gb < 20:\n",
        "  print('Not using a high-RAM runtime')\n",
        "else:\n",
        "  print('You are using a high-RAM runtime!')"
      ]
    },
    {
      "cell_type": "markdown",
      "metadata": {
        "id": "nW9V_GLWHZGX"
      },
      "source": [
        "# Load Images"
      ]
    },
    {
      "cell_type": "code",
      "execution_count": null,
      "metadata": {
        "id": "C7xT4oSoaSOs"
      },
      "outputs": [],
      "source": [
        "def load_im(path, shift, size,number_to_load=None, filename_return=False,split_phrase = 'frame'):\n",
        "  output = []\n",
        "  number_of_images = 0\n",
        "  list_of_files = os.listdir(path)\n",
        "  list_of_files = sorted(list_of_files, key=lambda f: int(f.split(f'{split_phrase}')[1].split('.')[0]))\n",
        "  # if not f\"frame{shift}.jpg\" in list_of_files:\n",
        "  #   return False\n",
        "  for filename in list_of_files:#shift = 0, number_to_load = 1\n",
        "      if number_of_images < shift:# number of images = 0\n",
        "        number_of_images += 1\n",
        "        continue\n",
        "      if number_to_load==None or number_of_images < number_to_load + shift:\n",
        "        number_of_images += 1\n",
        "        # print(filename)\n",
        "        # /content/drive/MyDrive/colabData_1/\n",
        "        name = Path(path) / filename\n",
        "        #str(filename)\n",
        "        original = resize(img_to_array(load_img(name)),(size,size))\n",
        "        # original = img_to_array(load_img(name))\n",
        "        # original = original[150:,:,:]\n",
        "        # original = original[0:700,:,:]\n",
        "        # original = resize(original,(size,size))\n",
        "\n",
        "        # print(f\"filename is {filename}\")\n",
        "        output.append(original)\n",
        "        if filename_return:\n",
        "          return filename\n",
        "      else:\n",
        "        break;\n",
        "\n",
        "  return output\n",
        "\n",
        "# load_im(Path('/content/drive/MyDrive/colabData_1'), 10, 0, 256)"
      ]
    },
    {
      "cell_type": "markdown",
      "metadata": {
        "id": "7QDJ1HhhHc4Y"
      },
      "source": [
        "## np_rescaling"
      ]
    },
    {
      "cell_type": "code",
      "execution_count": null,
      "metadata": {
        "id": "kK4bSQXMkBEu"
      },
      "outputs": [],
      "source": [
        "def np_resc(X):\n",
        "  X = np.array(X, dtype=float)\n",
        "\n",
        "  # Set up train and test data\n",
        "  split = int(1*len(X))\n",
        "  # split = int(0.05*len(X))\n",
        "  Xtrain = X[:split]\n",
        "  Xtrain = 1.0/255*Xtrain\n",
        "  Xtrain.shape\n",
        "  return Xtrain"
      ]
    },
    {
      "cell_type": "markdown",
      "metadata": {
        "id": "0tPzsx6RvjAu"
      },
      "source": [
        "# Alpha\n"
      ]
    },
    {
      "cell_type": "code",
      "execution_count": null,
      "metadata": {
        "id": "z_SVo87lkB1o"
      },
      "outputs": [],
      "source": [
        "# if firstTime and ModelName == 'Alpha':\n",
        "#   model = Sequential()\n",
        "#   model.add(InputLayer(input_shape=(None, None, 1)))\n",
        "#   model.add(Conv2D(8, (3, 3), bactivation='relu', padding='same', strides=2))\n",
        "#   model.add(Conv2D(8, (3, 3), activation='relu', padding='same'))\n",
        "#   model.add(Conv2D(16, (3, 3), activation='relu', padding='same'))\n",
        "#   model.add(Conv2D(16, (3, 3), activation='relu', padding='same', strides=2))\n",
        "#   model.add(Conv2D(32, (3, 3), activation='relu', padding='same'))\n",
        "#   model.add(Conv2D(32, (3, 3), activation='relu', padding='same', strides=2))\n",
        "#   model.add(UpSampling2D((2, 2)))\n",
        "#   model.add(Conv2D(32, (3, 3), activation='relu', padding='same'))\n",
        "#   model.add(UpSampling2D((2, 2)))\n",
        "#   model.add(Conv2D(16, (3, 3), activation='relu', padding='same'))\n",
        "#   model.add(UpSampling2D((2, 2)))\n",
        "#   model.add(Conv2D(2, (3, 3), activation='tanh', padding='same'))\n",
        "#   opt = tf.keras.optimizers.RMSprop(\n",
        "#     learning_rate=0.001, rho=0.9, momentum=0.0, epsilon=1e-07, centered=False,\n",
        "#     name='RMSprop',\n",
        "#   )\n",
        "#   model.compile(optimizer=opt, loss='mse')\n",
        "#   print('firstTime')\n",
        "\n",
        "\n",
        "def create_model_alpha():\n",
        "  model = Sequential()\n",
        "  model.add(InputLayer(input_shape=(256, 256, 1)))\n",
        "  model.add(Conv2D(8, (3, 3), activation='relu', padding='same', strides=2))\n",
        "  model.add(Conv2D(8, (3, 3), activation='relu', padding='same'))\n",
        "  model.add(Conv2D(16, (3, 3), activation='relu', padding='same'))\n",
        "  model.add(Conv2D(16, (3, 3), activation='relu', padding='same', strides=2))\n",
        "  model.add(Conv2D(32, (3, 3), activation='relu', padding='same'))\n",
        "  model.add(Conv2D(32, (3, 3), activation='relu', padding='same', strides=2))\n",
        "  model.add(UpSampling2D((2, 2)))\n",
        "  model.add(Conv2D(32, (3, 3), activation='relu', padding='same'))\n",
        "  model.add(UpSampling2D((2, 2)))\n",
        "  model.add(Conv2D(16, (3, 3), activation='relu', padding='same'))\n",
        "  model.add(UpSampling2D((2, 2)))\n",
        "  model.add(Conv2D(2, (3, 3), activation='tanh', padding='same'))\n",
        "  opt = tf.keras.optimizers.RMSprop(\n",
        "    learning_rate=0.001, rho=0.9, momentum=0.0, epsilon=1e-07, centered=False,\n",
        "    name='RMSprop',\n",
        "  )\n",
        "  model.compile(optimizer=opt, loss='mse')\n",
        "  return model"
      ]
    },
    {
      "cell_type": "markdown",
      "metadata": {
        "id": "UhnrnCKJcyVS"
      },
      "source": [
        "# Beta"
      ]
    },
    {
      "cell_type": "code",
      "execution_count": null,
      "metadata": {
        "id": "9G4oi-7-cwd6"
      },
      "outputs": [],
      "source": [
        "def create_model_beta():\n",
        "  model = Sequential()\n",
        "  model.add(InputLayer(input_shape=(256, 256, 1)))\n",
        "  model.add(Conv2D(64, (3, 3), activation='relu', padding='same'))\n",
        "  model.add(Conv2D(64, (3, 3), activation='relu', padding='same', strides=2))\n",
        "  model.add(Conv2D(128, (3, 3), activation='relu', padding='same'))\n",
        "  model.add(Conv2D(128, (3, 3), activation='relu', padding='same', strides=2))\n",
        "  model.add(Conv2D(256, (3, 3), activation='relu', padding='same'))\n",
        "  model.add(Conv2D(256, (3, 3), activation='relu', padding='same', strides=2))\n",
        "  model.add(Conv2D(512, (3, 3), activation='relu', padding='same'))\n",
        "  model.add(Conv2D(256, (3, 3), activation='relu', padding='same'))\n",
        "  model.add(Conv2D(128, (3, 3), activation='relu', padding='same'))\n",
        "  model.add(UpSampling2D((2, 2)))\n",
        "  model.add(Conv2D(64, (3, 3), activation='relu', padding='same'))\n",
        "  model.add(UpSampling2D((2, 2)))\n",
        "  model.add(Conv2D(32, (3, 3), activation='relu', padding='same'))\n",
        "  model.add(Conv2D(2, (3, 3), activation='tanh', padding='same'))\n",
        "  model.add(UpSampling2D((2, 2)))\n",
        "  model.compile(optimizer='rmsprop', loss='mse')\n",
        "  return model\n",
        "\n",
        "  "
      ]
    },
    {
      "cell_type": "markdown",
      "metadata": {
        "id": "K7DiLCAtKJoJ"
      },
      "source": [
        "# color paper Zhang,"
      ]
    },
    {
      "cell_type": "code",
      "execution_count": null,
      "metadata": {
        "id": "7LIppcyhKH-5"
      },
      "outputs": [],
      "source": [
        "def create_model_zhang():\n",
        "    model = Sequential()\n",
        "    model.add(InputLayer(input_shape=(256, 256, 1)))\n",
        "    # model.add(Conv2D(64, (3, 3), activation='relu', padding='same'))\n",
        "    model.add(Conv2D(64, (3, 3), activation='relu', padding='same', strides=2))\n",
        "    # model.add(Conv2D(128, (3, 3), activation='relu', padding='same'))\n",
        "    model.add(Conv2D(128, (3, 3), activation='relu', padding='same', strides=2))\n",
        "    # model.add(Conv2D(256, (3, 3), activation='relu', padding='same'))\n",
        "    model.add(Conv2D(256, (3, 3), activation='relu', padding='same', strides=2))\n",
        "    model.add(Conv2D(512, (3, 3), activation='relu', padding='same'))\n",
        "    model.add(Conv2D(512, (3, 3), activation='relu', padding='same'))\n",
        "    model.add(Conv2D(512, (3, 3), activation='relu', padding='same'))\n",
        "    # model.add(UpSampling2D((2, 2)))\n",
        "    model.add(Conv2D(512, (3, 3), activation='relu', padding='same'))\n",
        "    model.add(UpSampling2D((2, 2)))\n",
        "    model.add(Conv2D(256, (3, 3), activation='relu', padding='same'))\n",
        "    model.add(Conv2D(313, (3, 3), activation='softmax', padding='same'))\n",
        "    model.add(Conv2D(2, (1, 1), activation='tanh', padding='same', dilation_rate=1))\n",
        "    model.add(UpSampling2D(size=(4,4)))\n",
        "    # model.add(UpSampling2D((2, 2)))\n",
        "    plot_model(model,show_shapes=True, show_layer_names=True)\n",
        "    model.compile(optimizer='rmsprop', loss='mse')\n",
        "    return model\n",
        "\n"
      ]
    },
    {
      "cell_type": "markdown",
      "metadata": {
        "id": "vo8I9_BzUHRG"
      },
      "source": [
        "# pytorch model"
      ]
    },
    {
      "cell_type": "code",
      "execution_count": null,
      "metadata": {
        "id": "CueIhX4gUKZt"
      },
      "outputs": [],
      "source": [
        "import torch\n",
        "import torch.nn as nn\n",
        "import numpy as np\n",
        "from IPython import embed\n",
        "\n",
        "class BaseColor(nn.Module):\n",
        "\tdef __init__(self):\n",
        "\t\tsuper(BaseColor, self).__init__()\n",
        "\n",
        "\t\tself.l_cent = 50.\n",
        "\t\tself.l_norm = 100.\n",
        "\t\tself.ab_norm = 110.\n",
        "\n",
        "\tdef normalize_l(self, in_l):\n",
        "\t\treturn (in_l-self.l_cent)/self.l_norm\n",
        "\n",
        "\tdef unnormalize_l(self, in_l):\n",
        "\t\treturn in_l*self.l_norm + self.l_cent\n",
        "\n",
        "\tdef normalize_ab(self, in_ab):\n",
        "\t\treturn in_ab/self.ab_norm\n",
        "\n",
        "\tdef unnormalize_ab(self, in_ab):\n",
        "\t\treturn in_ab*self.ab_norm\n",
        "\n",
        "\n",
        "\n",
        "\n",
        "class ECCVGenerator(BaseColor):\n",
        "    def __init__(self, norm_layer=nn.BatchNorm2d):\n",
        "        super(ECCVGenerator, self).__init__()\n",
        "\n",
        "        model1=[nn.Conv2d(1, 64, kernel_size=3, stride=1, padding=1, bias=True),]\n",
        "        model1+=[nn.ReLU(True),]\n",
        "        model1+=[nn.Conv2d(64, 64, kernel_size=3, stride=2, padding=1, bias=True),]\n",
        "        model1+=[nn.ReLU(True),]\n",
        "        model1+=[norm_layer(64),]\n",
        "\n",
        "        model2=[nn.Conv2d(64, 128, kernel_size=3, stride=1, padding=1, bias=True),]\n",
        "        model2+=[nn.ReLU(True),]\n",
        "        model2+=[nn.Conv2d(128, 128, kernel_size=3, stride=2, padding=1, bias=True),]\n",
        "        model2+=[nn.ReLU(True),]\n",
        "        model2+=[norm_layer(128),]\n",
        "\n",
        "        model3=[nn.Conv2d(128, 256, kernel_size=3, stride=1, padding=1, bias=True),]\n",
        "        model3+=[nn.ReLU(True),]\n",
        "        model3+=[nn.Conv2d(256, 256, kernel_size=3, stride=1, padding=1, bias=True),]\n",
        "        model3+=[nn.ReLU(True),]\n",
        "        model3+=[nn.Conv2d(256, 256, kernel_size=3, stride=2, padding=1, bias=True),]\n",
        "        model3+=[nn.ReLU(True),]\n",
        "        model3+=[norm_layer(256),]\n",
        "\n",
        "        model4=[nn.Conv2d(256, 512, kernel_size=3, stride=1, padding=1, bias=True),]\n",
        "        model4+=[nn.ReLU(True),]\n",
        "        model4+=[nn.Conv2d(512, 512, kernel_size=3, stride=1, padding=1, bias=True),]\n",
        "        model4+=[nn.ReLU(True),]\n",
        "        model4+=[nn.Conv2d(512, 512, kernel_size=3, stride=1, padding=1, bias=True),]\n",
        "        model4+=[nn.ReLU(True),]\n",
        "        model4+=[norm_layer(512),]\n",
        "\n",
        "        model5=[nn.Conv2d(512, 512, kernel_size=3, dilation=2, stride=1, padding=2, bias=True),]\n",
        "        model5+=[nn.ReLU(True),]\n",
        "        model5+=[nn.Conv2d(512, 512, kernel_size=3, dilation=2, stride=1, padding=2, bias=True),]\n",
        "        model5+=[nn.ReLU(True),]\n",
        "        model5+=[nn.Conv2d(512, 512, kernel_size=3, dilation=2, stride=1, padding=2, bias=True),]\n",
        "        model5+=[nn.ReLU(True),]\n",
        "        model5+=[norm_layer(512),]\n",
        "\n",
        "        model6=[nn.Conv2d(512, 512, kernel_size=3, dilation=2, stride=1, padding=2, bias=True),]\n",
        "        model6+=[nn.ReLU(True),]\n",
        "        model6+=[nn.Conv2d(512, 512, kernel_size=3, dilation=2, stride=1, padding=2, bias=True),]\n",
        "        model6+=[nn.ReLU(True),]\n",
        "        model6+=[nn.Conv2d(512, 512, kernel_size=3, dilation=2, stride=1, padding=2, bias=True),]\n",
        "        model6+=[nn.ReLU(True),]\n",
        "        model6+=[norm_layer(512),]\n",
        "\n",
        "        model7=[nn.Conv2d(512, 512, kernel_size=3, stride=1, padding=1, bias=True),]\n",
        "        model7+=[nn.ReLU(True),]\n",
        "        model7+=[nn.Conv2d(512, 512, kernel_size=3, stride=1, padding=1, bias=True),]\n",
        "        model7+=[nn.ReLU(True),]\n",
        "        model7+=[nn.Conv2d(512, 512, kernel_size=3, stride=1, padding=1, bias=True),]\n",
        "        model7+=[nn.ReLU(True),]\n",
        "        model7+=[norm_layer(512),]\n",
        "\n",
        "        model8=[nn.ConvTranspose2d(512, 256, kernel_size=4, stride=2, padding=1, bias=True),]\n",
        "        model8+=[nn.ReLU(True),]\n",
        "        model8+=[nn.Conv2d(256, 256, kernel_size=3, stride=1, padding=1, bias=True),]\n",
        "        model8+=[nn.ReLU(True),]\n",
        "        model8+=[nn.Conv2d(256, 256, kernel_size=3, stride=1, padding=1, bias=True),]\n",
        "        model8+=[nn.ReLU(True),]\n",
        "\n",
        "        model8+=[nn.Conv2d(256, 313, kernel_size=1, stride=1, padding=0, bias=True),]\n",
        "\n",
        "        self.model1 = nn.Sequential(*model1)\n",
        "        self.model2 = nn.Sequential(*model2)\n",
        "        self.model3 = nn.Sequential(*model3)\n",
        "        self.model4 = nn.Sequential(*model4)\n",
        "        self.model5 = nn.Sequential(*model5)\n",
        "        self.model6 = nn.Sequential(*model6)\n",
        "        self.model7 = nn.Sequential(*model7)\n",
        "        self.model8 = nn.Sequential(*model8)\n",
        "\n",
        "        self.softmax = nn.Softmax(dim=1)\n",
        "        self.model_out = nn.Conv2d(313, 2, kernel_size=1, padding=0, dilation=1, stride=1, bias=False)\n",
        "        self.upsample4 = nn.Upsample(scale_factor=4, mode='bilinear')\n",
        "\n",
        "    def forward(self, input_l):\n",
        "        conv1_2 = self.model1(self.normalize_l(input_l))\n",
        "        conv2_2 = self.model2(conv1_2)\n",
        "        conv3_3 = self.model3(conv2_2)\n",
        "        conv4_3 = self.model4(conv3_3)\n",
        "        conv5_3 = self.model5(conv4_3)\n",
        "        conv6_3 = self.model6(conv5_3)\n",
        "        conv7_3 = self.model7(conv6_3)\n",
        "        conv8_3 = self.model8(conv7_3)\n",
        "        out_reg = self.model_out(self.softmax(conv8_3))\n",
        "\n",
        "        return self.unnormalize_ab(self.upsample4(out_reg))\n",
        "\n",
        "def eccv16(pretrained=True):\n",
        "\tmodel = ECCVGenerator()\n",
        "\tif(pretrained):\n",
        "\t\timport torch.utils.model_zoo as model_zoo\n",
        "\t\tmodel.load_state_dict(model_zoo.load_url('https://colorizers.s3.us-east-2.amazonaws.com/colorization_release_v2-9b330a0b.pth',map_location='cpu',check_hash=True))\n",
        "\treturn model"
      ]
    },
    {
      "cell_type": "code",
      "execution_count": null,
      "metadata": {
        "colab": {
          "base_uri": "https://localhost:8080/"
        },
        "id": "FG9wxanoVaPn",
        "outputId": "16ef0715-a613-4801-a059-83791b6047cd"
      },
      "outputs": [
        {
          "ename": "NameError",
          "evalue": "ignored",
          "output_type": "error",
          "traceback": [
            "\u001b[0;31m---------------------------------------------------------------------------\u001b[0m",
            "\u001b[0;31mNameError\u001b[0m                                 Traceback (most recent call last)",
            "\u001b[0;32m<ipython-input-19-507aea9ae556>\u001b[0m in \u001b[0;36m<module>\u001b[0;34m()\u001b[0m\n\u001b[1;32m      1\u001b[0m \u001b[0mimage_size\u001b[0m \u001b[0;34m=\u001b[0m \u001b[0;34m(\u001b[0m\u001b[0;36m256\u001b[0m\u001b[0;34m,\u001b[0m \u001b[0;36m256\u001b[0m\u001b[0;34m)\u001b[0m\u001b[0;34m\u001b[0m\u001b[0;34m\u001b[0m\u001b[0m\n\u001b[0;32m----> 2\u001b[0;31m \u001b[0mmodel\u001b[0m \u001b[0;34m=\u001b[0m \u001b[0mmake_model_keras\u001b[0m\u001b[0;34m(\u001b[0m\u001b[0minput_shape\u001b[0m\u001b[0;34m=\u001b[0m\u001b[0mimage_size\u001b[0m \u001b[0;34m+\u001b[0m \u001b[0;34m(\u001b[0m\u001b[0;36m3\u001b[0m\u001b[0;34m,\u001b[0m\u001b[0;34m)\u001b[0m\u001b[0;34m,\u001b[0m \u001b[0mnum_classes\u001b[0m\u001b[0;34m=\u001b[0m\u001b[0;36m2\u001b[0m\u001b[0;34m)\u001b[0m\u001b[0;34m\u001b[0m\u001b[0;34m\u001b[0m\u001b[0m\n\u001b[0m\u001b[1;32m      3\u001b[0m \u001b[0mmodel\u001b[0m\u001b[0;34m.\u001b[0m\u001b[0mcompile\u001b[0m\u001b[0;34m(\u001b[0m\u001b[0moptimizer\u001b[0m\u001b[0;34m=\u001b[0m\u001b[0mkeras\u001b[0m\u001b[0;34m.\u001b[0m\u001b[0moptimizers\u001b[0m\u001b[0;34m.\u001b[0m\u001b[0mAdam\u001b[0m\u001b[0;34m(\u001b[0m\u001b[0;36m1e-3\u001b[0m\u001b[0;34m)\u001b[0m\u001b[0;34m,\u001b[0m \u001b[0mloss\u001b[0m\u001b[0;34m=\u001b[0m\u001b[0;34m\"binary_crossentropy\"\u001b[0m\u001b[0;34m,\u001b[0m \u001b[0mmetrics\u001b[0m\u001b[0;34m=\u001b[0m\u001b[0;34m[\u001b[0m\u001b[0;34m\"accuracy\"\u001b[0m\u001b[0;34m]\u001b[0m\u001b[0;34m,\u001b[0m \u001b[0;34m)\u001b[0m\u001b[0;34m\u001b[0m\u001b[0;34m\u001b[0m\u001b[0m\n\u001b[1;32m      4\u001b[0m \u001b[0mres_fire\u001b[0m \u001b[0;34m=\u001b[0m \u001b[0mmodel\u001b[0m\u001b[0;34m.\u001b[0m\u001b[0mfit\u001b[0m\u001b[0;34m(\u001b[0m\u001b[0mXtrain\u001b[0m\u001b[0;34m,\u001b[0m \u001b[0mepochs\u001b[0m\u001b[0;34m=\u001b[0m\u001b[0;36m5\u001b[0m\u001b[0;34m,\u001b[0m\u001b[0msteps_per_epoch\u001b[0m\u001b[0;34m=\u001b[0m\u001b[0;36m10\u001b[0m\u001b[0;34m,\u001b[0m \u001b[0mbatch_size\u001b[0m\u001b[0;34m=\u001b[0m\u001b[0mbatch_size\u001b[0m\u001b[0;34m)\u001b[0m\u001b[0;34m\u001b[0m\u001b[0;34m\u001b[0m\u001b[0m\n",
            "\u001b[0;31mNameError\u001b[0m: name 'make_model_keras' is not defined"
          ]
        }
      ],
      "source": [
        "image_size = (256, 256)\n",
        "model = make_model_keras(input_shape=image_size + (3,), num_classes=2)\n",
        "model.compile(optimizer=keras.optimizers.Adam(1e-3), loss=\"binary_crossentropy\", metrics=[\"accuracy\"], )\n",
        "res_fire = model.fit(Xtrain, epochs=5,steps_per_epoch=10, batch_size=batch_size)"
      ]
    },
    {
      "cell_type": "markdown",
      "metadata": {
        "id": "PlHqyYessJH6"
      },
      "source": [
        "# Paper"
      ]
    },
    {
      "cell_type": "code",
      "execution_count": null,
      "metadata": {
        "id": "NKUy6NCMsLon"
      },
      "outputs": [],
      "source": [
        "    def relu_bn(inputs):\n",
        "      relu = ReLU()(inputs)\n",
        "      bn = BatchNormalization()(relu)\n",
        "      return bn\n",
        "    \n",
        "    X_input = Input(shape=(256, 256, 1))\n",
        "\n",
        "    # Zero-Padding\n",
        "    # X = ZeroPadding2D((5, 5))(X_input)\n",
        "    # X = BatchNormalization(axis=3, name='bn_conv1')(X)\n",
        "    # Rescaling\n",
        "    X = tf.keras.layers.Rescaling(1./255)(X_input)\n",
        "    # X = BatchNormalization()(X_input)\n",
        "    # Stage 1\n",
        "    X = Conv2D(8, (3, 3), strides=(2, 2), name='conv1')(X)\n",
        "    X = relu_bn(X)\n",
        "\n",
        "\n",
        "    X_shortcut = X\n",
        "    X_shortcut = Conv2D(8, kernel_size=(1, 1), strides=(2, 2))(X)\n",
        " \n",
        "    # Stage 2\n",
        "    X = ZeroPadding2D((3, 3))(X)\n",
        "    X = SeparableConv2D(8, kernel_size=(3, 3), name = 'conv2')(X)\n",
        "    X = relu_bn(X)\n",
        "    X = SeparableConv2D(8, kernel_size=(3, 3), name = 'conv3')(X)\n",
        "    X = relu_bn(X)\n",
        "    X = MaxPooling2D((3, 3), strides=(2, 2))(X)\n",
        "\n",
        "    # ADD\n",
        "    # print(type(X), type(X_shortcut))\n",
        "    X = Add()([X, X_shortcut])\n",
        "\n",
        "    X = tf.keras.layers.SeparableConv2D(8, kernel_size=(3, 3), name = 'conv4')(X)\n",
        "    X = BatchNormalization()(X)\n",
        "    X = Activation('relu')(X)\n",
        "\n",
        "    # Output\n",
        " \n",
        "    outputs = Dense(2, activation='sigmoid')(X)\n",
        "    \n",
        "    model = Model(X_input, outputs)\n",
        "    model.compile(optimizer='rmsprop', loss='mse', metrics=['accuracy'])\n",
        "    #   model = Model(X_input, X)\n",
        "    plot_model(model,show_shapes=True, show_layer_names=True)"
      ]
    },
    {
      "cell_type": "markdown",
      "metadata": {
        "id": "wzANsEZ-JnCq"
      },
      "source": [
        "# Paper Code"
      ]
    },
    {
      "cell_type": "code",
      "execution_count": null,
      "metadata": {
        "id": "2jMcMXz9HtRB"
      },
      "outputs": [],
      "source": [
        "def make_model_keras(input_shape, num_classes):\n",
        "    \"\"\"\n",
        "    This function define the DNN Model based on the Keras example.\n",
        "    :param input_shape: The requested size of the image\n",
        "    :param num_classes: In this classification problem, there are two classes: 1) Fire and 2) Non_Fire.\n",
        "    :return: The built model is returned\n",
        "    \"\"\"\n",
        "    inputs = Input(shape=input_shape)\n",
        "    # x = data_augmentation(inputs)  # 1) First option\n",
        "    x = inputs  # 2) Second option\n",
        "\n",
        "    x = tf.keras.layers.Rescaling(1.0 / 255)(x)\n",
        "    # x = layers.Conv2D(32, 3, strides=2, padding=\"same\")(x)\n",
        "    x = Conv2D(8, 3, strides=2, padding=\"same\")(x)\n",
        "    x = BatchNormalization()(x)\n",
        "    x = Activation(\"relu\")(x)\n",
        "\n",
        "    previous_block_activation = x\n",
        "\n",
        "    # for size in [128, 256, 512, 728]:\n",
        "    for size in [8]:\n",
        "        x = Activation(\"relu\")(x)\n",
        "        x = SeparableConv2D(size, 3, padding=\"same\")(x)\n",
        "        x = BatchNormalization()(x)\n",
        "\n",
        "        x = Activation(\"relu\")(x)\n",
        "        x = SeparableConv2D(size, 3, padding=\"same\")(x)\n",
        "        x = BatchNormalization()(x)\n",
        "\n",
        "        x = MaxPooling2D(3, strides=2, padding=\"same\")(x)\n",
        "\n",
        "        residual = Conv2D(size, 1, strides=2, padding=\"same\")(previous_block_activation)\n",
        "\n",
        "        x = Add()([x, residual])\n",
        "        previous_block_activation = x\n",
        "    x = SeparableConv2D(8, 3, padding=\"same\")(x)\n",
        "    x = BatchNormalization()(x)\n",
        "    x = Activation(\"relu\")(x)\n",
        "\n",
        "    x = GlobalAveragePooling2D()(x)\n",
        "    if num_classes == 2:\n",
        "        activation = \"sigmoid\"\n",
        "        units = 1\n",
        "    else:\n",
        "        activation = \"softmax\"\n",
        "        units = num_classes\n",
        "\n",
        "    x = Dropout(0.5)(x)\n",
        "    outputs = Dense(units, activation=activation)(x)\n",
        "    return Model(inputs, outputs, name=\"model_fire\")\n",
        "image_size = (256,256)\n",
        "model = make_model_keras(input_shape=image_size + (3,), num_classes=2)\n",
        "plot_model(model,show_shapes=True, show_layer_names=True)\n"
      ]
    },
    {
      "cell_type": "markdown",
      "metadata": {
        "id": "EqU0RZKGGV6J"
      },
      "source": [
        "### temp paper"
      ]
    },
    {
      "cell_type": "code",
      "execution_count": null,
      "metadata": {
        "id": "DUQq5Svu96VR"
      },
      "outputs": [],
      "source": [
        "    def relu_bn(inputs):\n",
        "      relu = ReLU()(inputs)\n",
        "      bn = BatchNormalization()(relu)\n",
        "      return bn\n",
        "    \n",
        "    X_input = Input(shape=(254, 254, 1))\n",
        "    \n",
        "    # Zero-Padding\n",
        "    # X = ZeroPadding2D((3, 3))(X_input)\n",
        "    # X = BatchNormalization(axis=3, name='bn_conv1')(X)\n",
        "    # Rescaling\n",
        "    X = tf.keras.layers.Rescaling(1./255)(X_input)\n",
        "    # X = BatchNormalization()(X_input)\n",
        "    # Stage 1\n",
        "    X = Conv2D(8, (3, 3), strides=(2, 2), name='conv1')(X)\n",
        "    X = relu_bn(X)\n",
        "\n",
        "\n",
        "    X_shortcut = X\n",
        "    X_shortcut = Conv2D(8, kernel_size=(1, 1), strides=(2, 2))(X)\n",
        "    model = Model(X_input, X_shortcut)\n",
        "    plot_model(model,show_shapes=True, show_layer_names=True)\n",
        "    # Stage 2\n",
        "    # X = tf.keras.layers.SeparableConv2D(8, kernel_size=(3, 3), name = 'conv2')(X)\n",
        "    # X = relu_bn(X)\n",
        "    # X = tf.keras.layers.SeparableConv2D(8, kernel_size=(3, 3), name = 'conv3')(X)\n",
        "    # X = relu_bn(X)\n",
        "    # X = MaxPooling2D((3, 3), strides=(2, 2))(X)\n",
        "\n",
        "    # ADD\n",
        "    # X = Add()([X, X_shortcut])\n",
        "\n",
        "    # X = tf.keras.layers.SeparableConv2D(8, kernel_size=(3, 3), name = 'conv2')(X)\n",
        "    # X = BatchNormalization()(X)\n",
        "    # X = Activation('relu')(X)\n",
        "\n",
        "    # # Output\n",
        " \n",
        "    # outputs = Dense(2, activation='sigmoid')(X)\n",
        "    \n",
        "    # model = Model(X_inputs, outputs)\n"
      ]
    },
    {
      "cell_type": "markdown",
      "metadata": {
        "id": "LiyygDpakXHX"
      },
      "source": [
        "# Load model"
      ]
    },
    {
      "cell_type": "code",
      "execution_count": null,
      "metadata": {
        "id": "owfJ11HukWYR"
      },
      "outputs": [],
      "source": [
        "\n",
        "# def load_model(path):\n",
        "#   with open(path, 'r') as json_file:\n",
        "#       json_savedModel= json_file.read()\n",
        "#   #load the model architecture \n",
        "#   model = tf.keras.models.model_from_json(json_savedModel)\n",
        "#   # model.summary()\n",
        "#   return model\n",
        "\n",
        "# Create a new model instance\n",
        "# model = create_model()\n",
        "\n",
        "# # Restore the weights\n",
        "# model.load_weights('/content/drive/MyDrive/Dataset_wildfire_1/result/fire_worked_beta_50ep.h5')\n",
        "# model.summary()\n",
        "\n",
        "\n",
        "\n",
        "# from keras.models import load_model\n",
        "# model = load_model('model.h5')\n",
        "model = load_model(\"/content/drive/MyDrive/Dataset_wildfire_1/result/model_40ep_alpha_wm_big\")"
      ]
    },
    {
      "cell_type": "code",
      "execution_count": null,
      "metadata": {
        "id": "7E9iLQfE-Ci8"
      },
      "outputs": [],
      "source": []
    },
    {
      "cell_type": "code",
      "execution_count": null,
      "metadata": {
        "id": "qfS-wEO7AcJC"
      },
      "outputs": [],
      "source": []
    },
    {
      "cell_type": "markdown",
      "metadata": {
        "id": "VX313c1AkG_r"
      },
      "source": [
        "# Training"
      ]
    },
    {
      "cell_type": "code",
      "execution_count": null,
      "metadata": {
        "id": "frCfwnQ1kJZR"
      },
      "outputs": [],
      "source": [
        "\n",
        "def train(model, spe, ep):\n",
        "    \n",
        "  # Image transformer\n",
        "  datagen = ImageDataGenerator(\n",
        "          shear_range=0.2,\n",
        "          zoom_range=0.2,\n",
        "          rotation_range=20,\n",
        "          horizontal_flip=True)\n",
        "\n",
        "  # Generate training data\n",
        "  batch_size = 10\n",
        "  def image_a_b_gen(batch_size):\n",
        "      for batch in datagen.flow(Xtrain, batch_size=batch_size):\n",
        "          lab_batch = rgb2lab(batch)\n",
        "          X_batch = lab_batch[:,:,:,0]\n",
        "          Y_batch = lab_batch[:,:,:,1:] / 128\n",
        "          yield (X_batch.reshape(X_batch.shape+(1,)), Y_batch)\n",
        "\n",
        "  # Train model      \n",
        "  tensorboard = TensorBoard(log_dir=\"output/first_run\")\n",
        "  # model.fit(image_a_b_gen(batch_size), callbacks=[tensorboard], epochs=20, steps_per_epoch=10)\n",
        "  history = model.fit(image_a_b_gen(batch_size),callbacks=[tensorboard], batch_size=batch_size,steps_per_epoch = spe,  epochs=ep, verbose=0)\n",
        "  return history, model\n",
        "# history, model = train(model)"
      ]
    },
    {
      "cell_type": "markdown",
      "metadata": {
        "id": "cark1uyxkfYS"
      },
      "source": [
        "# Training History"
      ]
    },
    {
      "cell_type": "code",
      "execution_count": null,
      "metadata": {
        "id": "OgQ4KG9Nkhh5"
      },
      "outputs": [],
      "source": [
        "def training_eval(history):\n",
        "  # Plot the training history\n",
        "  loss = history.history['loss']\n",
        "  # val_loss = history.history['val_loss']\n",
        "\n",
        "  epochs = range(2, len(loss) + 1)\n",
        "\n",
        "  plt.plot(epochs, loss[1:], 'bo', label='Training loss')\n",
        "  # plt.plot(epochs, val_loss[1:], 'b', label='Validation loss')\n",
        "  plt.title('Training and validation loss')\n",
        "  plt.legend()\n",
        "  plt.show()\n"
      ]
    },
    {
      "cell_type": "markdown",
      "metadata": {
        "id": "llhk9UvHkw2j"
      },
      "source": [
        "# Coloring"
      ]
    },
    {
      "cell_type": "code",
      "execution_count": null,
      "metadata": {
        "id": "Ks_WBRgEk1DV"
      },
      "outputs": [],
      "source": [
        "def coloring(model, path, shift, size):\n",
        "\n",
        " \n",
        "\n",
        "  color_me = []\n",
        "  img_path_test = Path(path)\n",
        "   # saving original\n",
        "  # path_original = img_path_test / load_im(img_path_test, shift, size,number_to_load=1, filename_return=True)\n",
        "  # print(path_original)\n",
        "  # original = imread(path_original)\n",
        "  # original = resize(original, (256, 256))\n",
        "  # result_save_dir = Path(\"/content/drive/MyDrive/Dataset_wildfire_1/psnr_test\") / \"original.png\" \n",
        "  # imsave(result_save_dir, original)\n",
        "\n",
        "\n",
        "   #\n",
        "  color_me = load_im(img_path_test, shift, size, number_to_load=1 )\n",
        "  if color_me == False:\n",
        "    return False\n",
        "  color_me = np.array(color_me, dtype=float)\n",
        "  color_me = rgb2lab(1.0/255.*color_me)[:,:,:,0]\n",
        "  color_me = color_me.reshape(color_me.shape+(1,))\n",
        "  # Test model\n",
        "  output = model.predict(color_me)\n",
        "  output = output * 128\n",
        "  \n",
        "\n",
        "  # Output colorizations\n",
        "  for i in range(len(output)):\n",
        "      cur = np.zeros((256, 256, 3))\n",
        "      cur[:,:,0] = color_me[i][:,:,0]\n",
        "      cur[:,:,1:] = output[i]\n",
        "      # print(cur[:,:,:1])\n",
        "      # if not (img_path_test.parent.parent / \"result/img\").exists():\n",
        "      #   !mkdir img_path_test.parent.parent / \"result/img    \n",
        "      # result_save_dir = str(img_path_test.parent.parent / \"result\" / f\"{str(i)}.png\")\n",
        "      # result_save_dir = Path(\"/content/drive/MyDrive/Dataset_wildfire_1/psnr_test\") / \"compressed.png\" \n",
        "      # imsave(result_save_dir, lab2rgb(cur))\n",
        "      # imshow( lab2rgb(cur))\n",
        "\n",
        "      # original[:,:,0] = original[:,:,0]/255.0\n",
        "      # original[:,:,1] = original[:,:,1]/255.0\n",
        "      # original[:,:,2] = original[:,:,2]/255.0\n",
        "      \n",
        "      # original = color_me\n",
        "      compressed = lab2rgb(cur)\n",
        "      # print(original)\n",
        "      # print(compressed)\n",
        "      # imshow(compressed)\n",
        "      # print(type(compressed))\n",
        "      # print(type(original), type(compressed))\n",
        "\n",
        "\n",
        "\n",
        "      # value = PSNR(original, compressed)\n",
        "\n",
        "      return compressed\n",
        "# a=coloring(model, 100, 256)"
      ]
    },
    {
      "cell_type": "code",
      "execution_count": null,
      "metadata": {
        "id": "LkuZPHE8J4VT"
      },
      "outputs": [],
      "source": [
        "def psnr_analyze(path_org, path_colored,shift_org, shift_colored, number_to_load):\n",
        "    psnr_r = []\n",
        "    psnr_g = []\n",
        "    psnr_b = []\n",
        "    psnr =[]\n",
        "    psnr_lab=[]\n",
        "    ssim = []\n",
        "    path_org = Path(path_org)\n",
        "    path_colored = Path(path_colored)\n",
        "    original = load_im(path_org, shift_org, 256, number_to_load=number_to_load)\n",
        "    compressed = load_im(path_colored, shift_colored, 256, split_phrase='_', number_to_load=number_to_load)\n",
        "    for o,c in zip(original, compressed):\n",
        "        # print(c)\n",
        "        # psnr.append(sk_psnr(o, c), data_range=255)\n",
        "        p_lab, p, p_r, p_g, p_b = PSNR(o, c)\n",
        "        psnr_lab.append(p_lab)\n",
        "        psnr.append(p)\n",
        "        psnr_r.append(p_r)\n",
        "        psnr_g.append(p_g)\n",
        "        psnr_b.append(p_b)\n",
        "        ssim.append(sk_ssim(o, c,multichannel=True) )\n",
        "    return psnr_lab, psnr, psnr_r, psnr_g, psnr_b, ssim\n",
        "def plot_psnr(title, psnr):\n",
        "    # Data for plotting\n",
        "    t = range(len(psnr))\n",
        "    fig, ax = plt.subplots()\n",
        "    ax.plot(t, psnr)\n",
        "    if title == \"SSIM\":\n",
        "      ax.set(xlabel='frame (i)', ylabel='SSIM',\n",
        "      title=f'SSIM of Reconstructed Frames')\n",
        "    else:\n",
        "      ax.set(xlabel='frame (i)', ylabel='PSNR (dB)',\n",
        "      title=f'PSNR of Reconstructed Frames of {title}')\n",
        "\n",
        "    # for i in t:\n",
        "    #   if i%30 == 0:\n",
        "    #       ax.axvspan(i-0.5, i+0.5, color=\"red\", alpha=0.5)\n",
        "    ax.grid()\n",
        "\n",
        "    # fig.savefig(\"test.png\")\n",
        "    plt.show()\n",
        "#title=f'SSIM of Reconstructed Frames'\n",
        "# title=f'PSNR of Reconstructed Frames of {title}'\n",
        "# p1 = \"/content/drive/MyDrive/common_videos/images/foreman\"\n",
        "# p1 = \"/content/drive/MyDrive/Dataset_wildfire_1/videos/sunset_img_8\"\n",
        "# p2 = \"/content/drive/MyDrive/Dataset_wildfire_1/result/sunset_8mbps_30g-40-10/\"\n",
        "# p2 = \"/content/drive/MyDrive/common_videos/results/foreman_25g_40-10\"\n",
        "# psnr_lab = psnr_lab, psnr, psnr_r, psnr_g, psnr_b, ssim_ = psnr_analyze(p1, p2,0, 0, 299)\n",
        "# plot_psnr(\"lab channels\", psnr_lab)\n",
        "# plot_psnr(\"RGB Channels\", psnr)\n",
        "# plot_psnr(\"Red Channel\",psnr_r)\n",
        "# plot_psnr(\"Green Channel\",psnr_g)\n",
        "# plot_psnr(\"Blue Channel\",psnr_b)\n",
        "# plot_psnr(\"SSIM\",ssim_)\n",
        "# print(\"psnr_lab_avg:\",sum(psnr_lab)/len(psnr_lab))\n",
        "# print(\"psnr_avg:\",sum(psnr)/len(psnr))\n",
        "# print(\"psnr_r_avg:\",sum(psnr_r)/len(psnr_r))\n",
        "# print(\"psnr_g_avg:\",sum(psnr_g)/len(psnr_g))\n",
        "# print(\"psnr_b_avg:\",sum(psnr_b)/len(psnr_b))\n",
        "# print(\"ssim_avg:\",sum(ssim_)/len(ssim_))\n",
        "\n"
      ]
    },
    {
      "cell_type": "code",
      "execution_count": null,
      "metadata": {
        "id": "2y9ienvu-yFt"
      },
      "outputs": [],
      "source": []
    },
    {
      "cell_type": "markdown",
      "metadata": {
        "id": "NL8XjdpVlLV9"
      },
      "source": [
        "# PSNR"
      ]
    },
    {
      "cell_type": "code",
      "execution_count": null,
      "metadata": {
        "id": "Mxk9_RG2lM4d"
      },
      "outputs": [],
      "source": [
        "from math import log10, sqrt\n",
        "import cv2\n",
        "import numpy as np\n",
        "from google.colab.patches import cv2_imshow\n",
        "  \n",
        "def PSNR(original, compressed):\n",
        "    # original = original * 255\n",
        "    # compressed = compressed * 255\n",
        "    # original = original.astype(np.uint8)\n",
        "    # compressed = compressed.astype(np.uint8)\n",
        "    max_pixel = 255.0\n",
        "    original_lab = rgb2lab(1.0/255.*original)\n",
        "    compressed_lab = rgb2lab(1.0/255.*compressed)\n",
        "    mse_L = np.mean((original_lab[:,:,0] - compressed_lab[:,:,0]) ** 2)\n",
        "    mse_A = np.mean((original_lab[:,:,1] - compressed_lab[:,:,1]) ** 2)\n",
        "    mse_B = np.mean((original_lab[:,:,2] - compressed_lab[:,:,2]) ** 2)\n",
        "    psnr_L = 20 * log10(max_pixel / sqrt(mse_L))\n",
        "    psnr_A = 20 * log10(max_pixel / sqrt(mse_A))\n",
        "    psnr_B = 20 * log10(max_pixel / sqrt(mse_B))\n",
        "    psnr_lab = (6*psnr_L + psnr_A + psnr_B)/8\n",
        "    mse = np.mean((original - compressed) ** 2)\n",
        "    mse_r = np.mean((original[:,:,0] - compressed[:,:,0]) ** 2)\n",
        "    mse_g = np.mean((original[:,:,1] - compressed[:,:,1]) ** 2)\n",
        "    mse_b = np.mean((original[:,:,2] - compressed[:,:,2]) ** 2)\n",
        "    if mse == 0:  # MSE is zero means no noise is present in the signal .\n",
        "                  # Therefore PSNR have no importance.\n",
        "        return 100\n",
        "    \n",
        "    psnr = 20 * log10(max_pixel / sqrt(mse))\n",
        "    psnr_r = 20 * log10(max_pixel / sqrt(mse_r))\n",
        "    psnr_g = 20 * log10(max_pixel / sqrt(mse_g))\n",
        "    psnr_b = 20 * log10(max_pixel / sqrt(mse_b))\n",
        "    return psnr_lab, psnr, psnr_r, psnr_g, psnr_b\n",
        "# p1 = \"/content/drive/MyDrive/colabData_1/resized_frame0.jpg\"\n",
        "# p2 = \"/content/drive/MyDrive/Dataset_wildfire_1/result/40ep_alpha_wm_big/im_0.png\"\n",
        "# PSNR(p1,p2)\n",
        "\n",
        "\n",
        "\n",
        "# size = 256\n",
        "# base = '/content/drive/MyDrive/Dataset_wildfire_1/psnr_test/'\n",
        "# filename = 'goldhill_summer.jpg'\n",
        "# name = base + filename\n",
        "# print(name)\n",
        "# original = resize(img_to_array(load_img(name)),(size,size))\n",
        "# imsave(\"/content/drive/MyDrive/Dataset_wildfire_1/psnr_test/goldhill_summer1.jpg\", original)\n",
        "# # compressed = random_noise(original, mode = 's&p', amount = 0.1)\n",
        "# # compressed = np.array(255*compressed, dtype = 'uint8')\n",
        "# gauss = np.random.normal(0,0.4,original.size)\n",
        "# gauss = gauss.reshape(original.shape[0],original.shape[1],original.shape[2]).astype('uint8')\n",
        "# noise = original + original * gauss\n",
        " \n",
        "# cv2_imshow(noise)\n",
        "# cv2.waitKey(0)\n",
        "# imsave(\"/content/drive/MyDrive/Dataset_wildfire_1/psnr_test/goldhill_summer2.jpg\", noise)\n",
        "# # print(type(original), type(compressed))\n",
        "# # print(compressed)\n",
        "# # filename = 'lena_noisy.png'\n",
        "# # name = base + filename\n",
        "# # compressed = resize(img_to_array(load_img(name)),(size,size))\n",
        "# print(PSNR(original, noise))\n",
        "# print(ssim(original, noise, data_range=noise.max() - noise.min(), multichannel=True))"
      ]
    },
    {
      "cell_type": "markdown",
      "metadata": {
        "id": "I-7OUWsngp2a"
      },
      "source": [
        "### save_model_json"
      ]
    },
    {
      "cell_type": "code",
      "execution_count": null,
      "metadata": {
        "id": "_Od6tPqJ6kaO"
      },
      "outputs": [],
      "source": [
        "# Save model\n",
        "def save_model(model, path):\n",
        "  model_json = model.to_json()\n",
        "  with open(path, \"w\") as json_file:\n",
        "      json_file.write(model_json)\n",
        "  # model.save_weights(\"/content/drive/MyDrive/Dataset_wildfire_1/result/zhang_50ep.h5\", \"w\")\n",
        "\n",
        "  def save_keras_model(model, path):\n",
        "    pass;\n"
      ]
    },
    {
      "cell_type": "code",
      "execution_count": null,
      "metadata": {
        "id": "2QKf-FK0XvJi"
      },
      "outputs": [],
      "source": [
        "# Save model\n",
        "model_json = model.to_json()\n",
        "with open(\"/content/drive/MyDrive/Dataset_wildfire_1/result/beta_50ep.json\", \"w\") as json_file:\n",
        "    json_file.write(model_json)\n",
        "model.save_weights(\"/content/drive/MyDrive/Dataset_wildfire_1/result/beta_50ep.h5\", \"w\")"
      ]
    },
    {
      "cell_type": "markdown",
      "metadata": {
        "id": "Sg6C5PuguJaI"
      },
      "source": [
        "# main"
      ]
    },
    {
      "cell_type": "code",
      "execution_count": null,
      "metadata": {
        "id": "vQeiudO_uImT"
      },
      "outputs": [],
      "source": [
        "X = dataset_init(3, 0, 256)\n",
        "Xtrain = np_resc(X)\n",
        "model = create_model_alpha()\n",
        "history, model = train(model, 10, 40)\n",
        "training_eval(history)\n",
        "coloring(model, 0, 256)\n",
        "\n",
        "\n",
        "\n"
      ]
    },
    {
      "cell_type": "code",
      "execution_count": null,
      "metadata": {
        "id": "RJjAVgpd05oH"
      },
      "outputs": [],
      "source": [
        "model = 0"
      ]
    },
    {
      "cell_type": "code",
      "execution_count": null,
      "metadata": {
        "colab": {
          "base_uri": "https://localhost:8080/"
        },
        "id": "I-HWBrH2zAEf",
        "outputId": "1f09862e-2ba4-406b-d22b-6cb09c78fb71"
      },
      "outputs": [
        {
          "name": "stdout",
          "output_type": "stream",
          "text": [
            "INFO:tensorflow:Assets written to: /content/drive/MyDrive/Dataset_wildfire_1/result/alpha_40ep/assets\n"
          ]
        }
      ],
      "source": [
        "path = \"/content/drive/MyDrive/Dataset_wildfire_1/result/alpha_40ep\"\n",
        "model.save(\"/content/drive/MyDrive/Dataset_wildfire_1/result/alpha_40ep\")"
      ]
    },
    {
      "cell_type": "code",
      "execution_count": null,
      "metadata": {
        "colab": {
          "base_uri": "https://localhost:8080/"
        },
        "id": "qzF76cg9xXKV",
        "outputId": "2c78d3a8-7c14-4320-84e3-67075476f0ef"
      },
      "outputs": [
        {
          "name": "stdout",
          "output_type": "stream",
          "text": [
            "resized_frame1214.jpg\n",
            "(1, 256, 256, 1)\n"
          ]
        },
        {
          "data": {
            "image/png": "[encoded data removed]",
            "text/plain": [
              "<Figure size 432x288 with 1 Axes>"
            ]
          },
          "metadata": {},
          "output_type": "display_data"
        }
      ],
      "source": [
        "path = \"/content/drive/MyDrive/Dataset_wildfire_1/result/alpha_40ep\"\n",
        "model =  load_model(path)\n",
        "coloring(model, 3, 256)"
      ]
    },
    {
      "cell_type": "markdown",
      "metadata": {
        "id": "QEs6V0c_TkfG"
      },
      "source": [
        "# Gradual Learning with saved model"
      ]
    },
    {
      "cell_type": "code",
      "execution_count": null,
      "metadata": {
        "id": "p3QhF0MATjcY"
      },
      "outputs": [],
      "source": [
        "path = \"/content/drive/MyDrive/Dataset_wildfire_1/result/model_40ep_alpha_wm_big\"\n",
        "model =  load_model(path)\n",
        "k=0\n",
        "for i in range(40,86):\n",
        "    X = dataset_init(1, 30*i, 256)\n",
        "    Xtrain = np_resc(X)\n",
        "\n",
        "    history, model = train(model, 10, 40)\n",
        "    # training_eval(history)\n",
        "    for j in range(30):\n",
        "        img_tosave = coloring(model, 30*i+j, 256)\n",
        "        imsave(f\"/content/drive/MyDrive/Dataset_wildfire_1/result/40ep_alpha_wm_big_2/im_{k}.png\",img_tosave)\n",
        "        k+=1\n",
        "model.save( \"/content/drive/MyDrive/Dataset_wildfire_1/result/model_40ep_alpha_wm_big_2\")\n",
        "\n"
      ]
    },
    {
      "cell_type": "markdown",
      "metadata": {
        "id": "Vuh799HvUwKF"
      },
      "source": [
        "# Gradual Learning big dataset without model"
      ]
    },
    {
      "cell_type": "code",
      "execution_count": null,
      "metadata": {
        "id": "EBTK789CgnHF"
      },
      "outputs": [],
      "source": [
        "import time\n",
        "t1 = time.time()\n",
        "frames = 300\n",
        "g = 30\n",
        "it1 = int(frames / g)\n",
        "\n",
        "path = \"/content/drive/MyDrive/common_videos/images/foreman\"\n",
        "p1 = path\n",
        "model =  create_model_alpha()\n",
        "k=0\n",
        "for i in range(0,it1):\n",
        "    # print(f\"i iteration is : {i}\")\n",
        "    X = load_im(path, g * i, size = 256, number_to_load=1 )\n",
        "    Xtrain = np_resc(X)\n",
        "\n",
        "    history, model = train(model, 10, 40)\n",
        "    # training_eval(history)\n",
        "    for j in range(g):\n",
        "        # print(f\"i = {i}\")\n",
        "        # print(f\"j = {j}\")\n",
        "        print(f\"shift is : {g*i+j}\")\n",
        "        img_tosave = coloring(model,path , shift = g*i+j, size = 256)\n",
        "        if type(img_tosave) == bool:\n",
        "          print(f\"break in j = {j}\")\n",
        "          break;\n",
        "        imsave(f\"/content/drive/MyDrive/common_videos/results/foreman_{g}g_40-10/result_{k}.jpg\",img_tosave)\n",
        "        k+=1\n",
        "model.save( f\"/content/drive/MyDrive/common_videos/models/model_foreman_{g}g_40-10\")\n",
        "\n",
        "t2 = time.time()\n",
        "dt = t2 - t1\n",
        "print(dt)\n",
        "p2 = f\"/content/drive/MyDrive/common_videos/results/foreman_{g}g_40-10\"\n"
      ]
    },
    {
      "cell_type": "code",
      "execution_count": null,
      "metadata": {
        "colab": {
          "base_uri": "https://localhost:8080/"
        },
        "id": "WCfhwvOetfUG",
        "outputId": "9e459d3f-09c6-41eb-f03e-06855d9951ee"
      },
      "outputs": [
        {
          "name": "stdout",
          "output_type": "stream",
          "text": [
            "psnr_lab_avg.append 42.01018972722608\n",
            "psnr_avg.append 28.142654519195524\n",
            "psnr_r_avg.append 27.211788321651447\n",
            "psnr_g_avg.append 33.63836766231727\n",
            "psnr_b_avg.append 26.574272553361922\n",
            "ssim_avg.append 0.78163330370085597\n"
          ]
        }
      ],
      "source": [
        "text = \"\"\"psnr_lab_avg: 42.01018972722608\n",
        "psnr_avg: 28.142654519195524\n",
        "psnr_r_avg: 27.211788321651447\n",
        "psnr_g_avg: 33.63836766231727\n",
        "psnr_b_avg: 26.574272553361922\n",
        "ssim_avg: 0.78163330370085597\"\"\"\n",
        "\n",
        "print(text.replace(':','.append'))\n"
      ]
    },
    {
      "cell_type": "markdown",
      "metadata": {
        "id": "ZEm0T9q0x7nE"
      },
      "source": [
        "# make video"
      ]
    },
    {
      "cell_type": "code",
      "execution_count": null,
      "metadata": {
        "colab": {
          "base_uri": "https://localhost:8080/"
        },
        "id": "PYQXN4Vxx9AT",
        "outputId": "3d3eed37-d36e-4b6c-9a5f-915dd59c00bd"
      },
      "outputs": [
        {
          "output_type": "stream",
          "name": "stderr",
          "text": [
            "100%|██████████| 300/300 [00:04<00:00, 70.43it/s] \n"
          ]
        }
      ],
      "source": [
        "import cv2\n",
        "import os\n",
        "\n",
        "image_folder = '/content/drive/MyDrive/common_videos/results/wildfire1_1024_25g-10-10'\n",
        "video_name = 'wildfire1_1024.avi'\n",
        "\n",
        "images = [img for img in os.listdir(image_folder) if img.endswith(\".jpg\")]\n",
        "frame = cv2.imread(os.path.join(image_folder, images[0]))\n",
        "height, width, layers = frame.shape\n",
        "\n",
        "# video = cv2.VideoWriter(video_name, 0, 1, (width,height))\n",
        "video = cv2.VideoWriter(video_name,cv2.VideoWriter_fourcc('M','J','P','G'), 25, (width,height))\n",
        "list_of_files = os.listdir(image_folder)\n",
        "list_of_files = sorted(list_of_files, key=lambda f: int(f.split('_')[1].split('.')[0]))\n",
        "  \n",
        "for image in tqdm(list_of_files):\n",
        "    video.write(cv2.imread(os.path.join(image_folder, image)))\n",
        "\n",
        "cv2.destroyAllWindows()\n",
        "video.release()"
      ]
    },
    {
      "cell_type": "markdown",
      "metadata": {
        "id": "mFM6tutWbspx"
      },
      "source": [
        "# Extract video"
      ]
    },
    {
      "cell_type": "code",
      "execution_count": null,
      "metadata": {
        "id": "b9JkEgXIbvzl"
      },
      "outputs": [],
      "source": [
        "\n",
        "def extract_video(path):\n",
        "  # Opens the Video file\n",
        "  path = Path(path)\n",
        "  cap= cv2.VideoCapture(str(path))\n",
        "  i=0\n",
        "  while(cap.isOpened()):\n",
        "      ret, frame = cap.read()\n",
        "      if ret == False:\n",
        "          break\n",
        "      save_path = f\"/content/drive/MyDrive/common_videos/images/foreman_{bitrate}/\" + f'frame{str(i)}.jpg'\n",
        "      cv2.imwrite(str(save_path),frame)\n",
        "      i+=1\n",
        "  \n",
        "  cap.release()\n",
        "  cv2.destroyAllWindows()\n",
        "input = [128,256,512,1024,2000,4000]\n",
        "for bitrate in input:\n",
        "  path = f\"/content/drive/MyDrive/common_videos/videos/foreman_{bitrate}.mp4\"\n",
        "  output_folder = f\"/content/drive/MyDrive/common_videos/images/foreman_{bitrate}\"\n",
        "  Path(output_folder).mkdir(parents=False, exist_ok=True)\n",
        "  extract_video(path)"
      ]
    },
    {
      "cell_type": "code",
      "execution_count": null,
      "metadata": {
        "id": "xw80D6rZRZP4"
      },
      "outputs": [],
      "source": [
        "import time\n",
        "input = [128,256,512,1024,2000,4000]\n",
        "input = [4000]\n",
        "results = {}\n",
        "for bitrate in input:\n",
        "    print(bitrate)\n",
        "    t1 = time.time()\n",
        "    numOf_frame = 300\n",
        "    g = 25\n",
        "    it1 = int(numOf_frame/g)\n",
        "    path = f\"/content/drive/MyDrive/common_videos/images/foreman_{bitrate}/\"\n",
        "    p1 = path\n",
        "    out = f\"/content/drive/MyDrive/common_videos/results/foreman_{bitrate}_{g}g-40-10\"\n",
        "    Path(out).mkdir(parents=False, exist_ok=True)\n",
        "    model =  create_model_alpha()\n",
        "    k=0\n",
        "    for i in range(0,it1):\n",
        "        # print(f\"i iteration is : {i}\")\n",
        "        X = load_im(path, g * i, size = 256, number_to_load=1 )\n",
        "        Xtrain = np_resc(X)\n",
        "\n",
        "        history, model = train(model, 10, 40)\n",
        "        # training_eval(history)\n",
        "        for j in range(g):\n",
        "            # print(f\"i = {i}\")\n",
        "            # print(f\"j = {j}\")\n",
        "            print(f\"shift is : {g*i+j}\")\n",
        "            img_tosave = coloring(model,path , shift = g*i+j, size = 256)\n",
        "            if type(img_tosave) == bool:\n",
        "              print(f\"break in j = {j}\")\n",
        "              break;\n",
        "            imsave(f\"/content/drive/MyDrive/common_videos/results/foreman_{bitrate}_{g}g-40-10/result_{k}.jpg\",img_tosave)\n",
        "            k+=1\n",
        "    model.save( f\"/content/drive/MyDrive/common_videos/results/model_foreman_{bitrate}_{g}g-40-10\")\n",
        "\n",
        "    t2 = time.time()\n",
        "    dt = t2 - t1\n",
        "    print(dt)\n",
        "    p2 = f\"/content/drive/MyDrive/common_videos/results/foreman_{bitrate}_{g}g-40-10\"\n",
        "    p1 = \"/content/drive/MyDrive/common_videos/images/foreman\"\n",
        "    psnr_lab, psnr, psnr_r, psnr_g, psnr_b, ssim_ = psnr_analyze(p1, p2,0, 0, numOf_frame)\n",
        "    results[f'psnr_lab_{bitrate}'] = sum(psnr_lab)/len(psnr_lab)\n",
        "    results[f'psnr_avg_{bitrate}'] = sum(psnr)/len(psnr)\n",
        "    results[f'psnr_r_avg_{bitrate}'] = sum(psnr_r)/len(psnr_r)\n",
        "    results[f'psnr_g_avg_{bitrate}'] = sum(psnr_g)/len(psnr_g)\n",
        "    results[f'psnr_b_avg_{bitrate}'] = sum(psnr_b)/len(psnr_b)\n",
        "    results[f'ssim_avg_{bitrate}'] =sum(ssim_)/len(ssim_)\n",
        "    # break;\n",
        "    # plot_psnr(\"lab channels\", psnr_lab)\n",
        "    # plot_psnr(\"RGB Channels\", psnr)\n",
        "    # plot_psnr(\"Red Channel\",psnr_r)\n",
        "    # plot_psnr(\"Green Channel\",psnr_g)\n",
        "    # plot_psnr(\"Blue Channel\",psnr_b)\n",
        "    # plot_psnr(\"SSIM\",ssim_)\n",
        "    # print(\"psnr_lab_avg:\",sum(psnr_lab)/len(psnr_lab))\n",
        "    # print(\"psnr_avg:\",sum(psnr)/len(psnr))\n",
        "    # print(\"psnr_r_avg:\",sum(psnr_r)/len(psnr_r))\n",
        "    # print(\"psnr_g_avg:\",sum(psnr_g)/len(psnr_g))\n",
        "    # print(\"psnr_b_avg:\",sum(psnr_b)/len(psnr_b))\n",
        "    # print(\"ssim_avg:\",sum(ssim_)/len(ssim_))\n"
      ]
    },
    {
      "cell_type": "markdown",
      "metadata": {
        "id": "FYizi39Yhp8Y"
      },
      "source": [
        "# Training parameters -> PSNR & TIME"
      ]
    },
    {
      "cell_type": "code",
      "execution_count": null,
      "metadata": {
        "colab": {
          "background_save": true
        },
        "id": "CQP6gq5BhlCQ"
      },
      "outputs": [],
      "source": [
        "import time\n",
        "ep = [10,40,10,40]\n",
        "spe = [1,1,10,10]\n",
        "codename = \"akiyo\"\n",
        "# ep = [5]\n",
        "# spe = [1]\n",
        "# spe = [1,1,10,10]\n",
        "elapsed_times=[]\n",
        "results = {}\n",
        "for ep_, spe_ in zip(ep, spe):\n",
        "    print(ep_, spe_)\n",
        "    t1 = time.time()\n",
        "    numOf_frame = 300\n",
        "    g = 25\n",
        "    it1 = int(numOf_frame/g)\n",
        "    path = f\"/content/drive/MyDrive/common_videos/images/{codename}_4000/\"\n",
        "    p1 = path\n",
        "    out = f\"/content/drive/MyDrive/common_videos/results/{codename}_{ep_},{spe_}_{g}g-10-1\"\n",
        "    Path(out).mkdir(parents=False, exist_ok=True)\n",
        "    model =  create_model_alpha()\n",
        "    k=0\n",
        "    for i in range(0,it1):\n",
        "        # print(f\"i iteration is : {i}\")\n",
        "        X = load_im(path, g * i, size = 256, number_to_load=1 )\n",
        "        Xtrain = np_resc(X)\n",
        "\n",
        "        history, model = train(model, spe_, ep_)\n",
        "        # training_eval(history)\n",
        "        for j in range(g):\n",
        "            # print(f\"i = {i}\")\n",
        "            # print(f\"j = {j}\")\n",
        "            # print(f\"shift is : {g*i+j}\")\n",
        "            img_tosave = coloring(model,path , shift = g*i+j, size = 256)\n",
        "            if type(img_tosave) == bool:\n",
        "              print(f\"break in j = {j}\")\n",
        "              break;\n",
        "            # imsave(f\"/content/drive/MyDrive/common_videos/results/{codename}_{ep_},{spe_}_{g}g-10-1/result_{k}.jpg\",img_tosave)\n",
        "            k+=1\n",
        "    # model.save( f\"/content/drive/MyDrive/common_videos/results/model_{codename}_{ep_},{spe_}_{g}g-10-1\")\n",
        "\n",
        "    t2 = time.time()\n",
        "    dt = t2 - t1\n",
        "    elapsed_times.append(dt)\n",
        "print(elapsed_times)\n",
        "    # print(dt)\n",
        "    # p2 = f\"/content/drive/MyDrive/common_videos/results/{codename}_{ep_},{spe_}_{g}g-10-1\"\n",
        "    # psnr_lab, psnr, psnr_r, psnr_g, psnr_b, ssim_ = psnr_analyze(p1, p2,0, 0, numOf_frame)\n",
        "    # results[f'psnr_lab_{ep_}_{spe_}'] = sum(psnr_lab)/len(psnr_lab)\n",
        "    # results[f'psnr_avg_{ep_}_{spe_}'] = sum(psnr)/len(psnr)\n",
        "    # results[f'psnr_r_avg_{ep_}_{spe_}'] = sum(psnr_r)/len(psnr_r)\n",
        "    # results[f'psnr_g_avg_{ep_}_{spe_}'] = sum(psnr_g)/len(psnr_g)\n",
        "    # results[f'psnr_b_avg_{ep_}_{spe_}'] = sum(psnr_b)/len(psnr_b)\n",
        "    # results[f'ssim_avg_{ep_}_{spe_}'] =sum(ssim_)/len(ssim_)\n",
        "    # break;\n",
        "    # plot_psnr(\"lab channels\", psnr_lab)\n",
        "    # plot_psnr(\"RGB Channels\", psnr)\n",
        "    # plot_psnr(\"Red Channel\",psnr_r)\n",
        "    # plot_psnr(\"Green Channel\",psnr_g)\n",
        "    # plot_psnr(\"Blue Channel\",psnr_b)\n",
        "    # plot_psnr(\"SSIM\",ssim_)\n",
        "    # print(\"psnr_lab_avg:\",sum(psnr_lab)/len(psnr_lab))\n",
        "    # print(\"psnr_avg:\",sum(psnr)/len(psnr))\n",
        "    # print(\"psnr_r_avg:\",sum(psnr_r)/len(psnr_r))\n",
        "    # print(\"psnr_g_avg:\",sum(psnr_g)/len(psnr_g))\n",
        "    # print(\"psnr_b_avg:\",sum(psnr_b)/len(psnr_b))\n",
        "    # print(\"ssim_avg:\",sum(ssim_)/len(ssim_))\n"
      ]
    },
    {
      "cell_type": "code",
      "execution_count": null,
      "metadata": {
        "colab": {
          "base_uri": "https://localhost:8080/"
        },
        "id": "ogKrUfU-iS4h",
        "outputId": "72c41b26-4440-4c20-8153-923f328a9a1f"
      },
      "outputs": [
        {
          "name": "stdout",
          "output_type": "stream",
          "text": [
            "10 1\n",
            "10 10\n",
            "40 1\n",
            "40 10\n"
          ]
        }
      ],
      "source": [
        "ep = [10,10,40,40]\n",
        "spe = [1,10,1,10]\n",
        "for e,s in zip(ep, spe):\n",
        "  print(e,s)"
      ]
    },
    {
      "cell_type": "code",
      "execution_count": null,
      "metadata": {
        "id": "JLB-Y--MGcx-"
      },
      "outputs": [],
      "source": [
        "path = \"/content/drive/MyDrive/Dataset_wildfire_1/result/huge_fire_40ep\"\n",
        "list_of_files = os.listdir(path)\n",
        "for file in list_of_files:\n",
        "  print(file)\n",
        "list_of_files = sorted(list_of_files, key=lambda f: int(f.split('frame')[1].split('.')[0]))"
      ]
    },
    {
      "cell_type": "code",
      "execution_count": null,
      "metadata": {
        "id": "ekMC3Ze4vIS8"
      },
      "outputs": [],
      "source": [
        "import functools\n",
        "from time import perf_counter\n",
        "def timer(func):\n",
        "    @functools.wraps(func)\n",
        "    def wrapper(*args, **kwargs):\n",
        "        t1 = perf_counter()\n",
        "        output = func(*args, **kwargs)\n",
        "        t2 = perf_counter()\n",
        "        print(f\"passed time : {t2-t1}\")\n",
        "        return output\n",
        "    return wrapper"
      ]
    },
    {
      "cell_type": "code",
      "execution_count": null,
      "metadata": {
        "colab": {
          "base_uri": "https://localhost:8080/"
        },
        "id": "-sjUhLIOypNH",
        "outputId": "c8160418-275c-4273-d70f-328a73cc2bea"
      },
      "outputs": [
        {
          "name": "stdout",
          "output_type": "stream",
          "text": [
            "[173.8852756023407, 210.8098738193512, 193.17346453666687, 221.21734929084778]\n"
          ]
        }
      ],
      "source": [
        "print(elapsed_times)"
      ]
    },
    {
      "cell_type": "code",
      "execution_count": null,
      "metadata": {
        "colab": {
          "base_uri": "https://localhost:8080/",
          "height": 453
        },
        "id": "mFqlPhFEy0ix",
        "outputId": "e55eda24-843a-4d0f-a3fb-4ee247af57b4"
      },
      "outputs": [
        {
          "name": "stderr",
          "output_type": "stream",
          "text": [
            "WARNING:matplotlib.font_manager:findfont: Font family ['Times New Roman'] not found. Falling back to DejaVu Sans.\n",
            "WARNING:matplotlib.font_manager:findfont: Font family ['Times New Roman'] not found. Falling back to DejaVu Sans.\n"
          ]
        },
        {
          "name": "stdout",
          "output_type": "stream",
          "text": [
            "[36.86260458940749, 38.96391065925794, 39.91700100937814, 40.50330064519393, 40.749385465563286, 40.98004540352525]\n",
            "[24.257477225354343, 25.384477905527515, 25.12126570680615, 25.343351045657407, 25.25327669840194, 25.57153265993269]\n",
            "[23.456232784933277, 24.359473768319887, 24.33181294642158, 24.224853517158603, 24.269331901319756, 24.588733490185106]\n",
            "[29.106958477862154, 30.781148482074908, 31.439573721585276, 31.66314419077232, 31.79692038582744, 32.03474359776042]\n",
            "[22.649668050902246, 23.876492941296284, 23.364973401439574, 23.755359882298706, 23.49964428526811, 23.846387046834312]\n",
            "[0.5983433676650072, 0.695187880780154, 0.7369164586545109, 0.7506902175997154, 0.759566984261273, 0.7772149720762426]\n"
          ]
        },
        {
          "data": {
            "image/png": "[encoded data removed]",
            "text/plain": [
              "<Figure size 432x288 with 1 Axes>"
            ]
          },
          "metadata": {},
          "output_type": "display_data"
        }
      ],
      "source": [
        "import matplotlib.pyplot as plt\n",
        "import numpy as np\n",
        "\n",
        "# Data for plotting\n",
        "s = []\n",
        "psnr_lab_avg = []\n",
        "psnr_avg = []\n",
        "psnr_r_avg = []\n",
        "psnr_g_avg = []\n",
        "psnr_b_avg = []\n",
        "ssim_avg = []\n",
        "\n",
        "t = input\n",
        "for bitrate in input:\n",
        "    psnr_lab_avg.append(results[f'psnr_lab_{bitrate}'])\n",
        "    psnr_avg.append(results[f'psnr_avg_{bitrate}'])\n",
        "    psnr_r_avg.append(results[f'psnr_r_avg_{bitrate}'])\n",
        "    psnr_g_avg.append(results[f'psnr_g_avg_{bitrate}'])\n",
        "    psnr_b_avg.append(results[f'psnr_b_avg_{bitrate}'])\n",
        "    ssim_avg.append(results[f'ssim_avg_{bitrate}'])\n",
        "print(psnr_lab_avg)\n",
        "print(psnr_avg)\n",
        "print(psnr_r_avg)\n",
        "print(psnr_g_avg)\n",
        "print(psnr_b_avg)\n",
        "print(ssim_avg)\n",
        "\n",
        "plt.rcParams[\"font.family\"] = \"Times New Roman\"\n",
        "\n",
        "fig, ax1= plt.subplots()\n",
        "ax1.plot(t, psnr_lab_avg, 'bo',t,psnr_lab_avg,'k')\n",
        "\n",
        "ax1.set(xlabel='GOP (Mbps)', ylabel='PSNR (dB)',\n",
        "       title='LAB PSNR')\n",
        "ax1.grid()\n",
        "plt.show()\n",
        "\n",
        "\n",
        "\n"
      ]
    },
    {
      "cell_type": "markdown",
      "metadata": {
        "id": "7kcOyZUAu-Vb"
      },
      "source": [
        "#ep spe"
      ]
    },
    {
      "cell_type": "code",
      "execution_count": null,
      "metadata": {
        "colab": {
          "base_uri": "https://localhost:8080/",
          "height": 453
        },
        "id": "bG2VjM9ru83X",
        "outputId": "0f35ba7f-5e55-47a6-d430-ab497c298d6c"
      },
      "outputs": [
        {
          "name": "stderr",
          "output_type": "stream",
          "text": [
            "WARNING:matplotlib.font_manager:findfont: Font family ['Times New Roman'] not found. Falling back to DejaVu Sans.\n",
            "WARNING:matplotlib.font_manager:findfont: Font family ['Times New Roman'] not found. Falling back to DejaVu Sans.\n"
          ]
        },
        {
          "name": "stdout",
          "output_type": "stream",
          "text": [
            "[41.31720392436389, 41.48922051883698, 41.64877517614565, 42.12650364716861]\n",
            "[25.97354428664668, 26.529602574739627, 27.04526027354976, 28.55221543502353]\n",
            "[24.84957074521037, 25.431271180509885, 25.95278196143047, 27.47886093041166]\n",
            "[32.27383556638549, 32.59600943832417, 32.869124317737416, 33.73596617615054]\n",
            "[24.39065213000973, 24.96633006208896, 25.53751975864842, 27.17918345984854]\n",
            "[0.7835065283782587, 0.7825001928626204, 0.782672417388219, 0.7817965259338202]\n"
          ]
        },
        {
          "data": {
            "image/png": "[encoded data removed]",
            "text/plain": [
              "<Figure size 432x288 with 1 Axes>"
            ]
          },
          "metadata": {},
          "output_type": "display_data"
        }
      ],
      "source": [
        "import matplotlib.pyplot as plt\n",
        "import numpy as np\n",
        "\n",
        "# Data for plotting\n",
        "s = []\n",
        "psnr_lab_avg = []\n",
        "psnr_avg = []\n",
        "psnr_r_avg = []\n",
        "psnr_g_avg = []\n",
        "psnr_b_avg = []\n",
        "ssim_avg = []\n",
        "\n",
        "t = ['10,1', '10,40','40,1', '40,10']\n",
        "for ep_, spe_ in zip(ep,spe):\n",
        "    psnr_lab_avg.append(results[f'psnr_lab_{ep_}_{spe_}'])\n",
        "    psnr_avg.append(results[f'psnr_avg_{ep_}_{spe_}'])\n",
        "    psnr_r_avg.append(results[f'psnr_r_avg_{ep_}_{spe_}'])\n",
        "    psnr_g_avg.append(results[f'psnr_g_avg_{ep_}_{spe_}'])\n",
        "    psnr_b_avg.append(results[f'psnr_b_avg_{ep_}_{spe_}'])\n",
        "    ssim_avg.append(results[f'ssim_avg_{ep_}_{spe_}'])\n",
        "print(psnr_lab_avg)\n",
        "print(psnr_avg)\n",
        "print(psnr_r_avg)\n",
        "print(psnr_g_avg)\n",
        "print(psnr_b_avg)\n",
        "print(ssim_avg)\n",
        "\n",
        "plt.rcParams[\"font.family\"] = \"Times New Roman\"\n",
        "elapsed_times = [173.8852756023407, 193.17346453666687,210.8098738193512, 221.21734929084778]\n",
        "\n",
        "fig, ax1= plt.subplots()\n",
        "ax1.plot(t, psnr_lab_avg, 'bo',t,psnr_lab_avg,'k')\n",
        "\n",
        "ax1.set(xlabel='GOP (Mbps)', ylabel='PSNR (dB)',\n",
        "       title='LAB PSNR')\n",
        "ax1.grid()\n",
        "plt.show()\n"
      ]
    },
    {
      "cell_type": "code",
      "execution_count": null,
      "metadata": {
        "id": "pkETHnfI3JTt"
      },
      "outputs": [],
      "source": [
        "import time\n",
        "gop = [5, 10, 15 , 20, 25, 30]\n",
        "results = {}\n",
        "elapsed_times = []\n",
        "codename = \"akiyo_4000\"\n",
        "for g in gop:\n",
        "    print(g)\n",
        "    t1 = time.time()\n",
        "    numOf_frame = 300\n",
        "    it1 = int(numOf_frame/g)\n",
        "    path = f\"/content/drive/MyDrive/common_videos/images/{codename}/\"\n",
        "    p1 = path\n",
        "    out = f\"/content/drive/MyDrive/common_videos/results/{codename}_{g}g-10-1\"\n",
        "    Path(out).mkdir(parents=False, exist_ok=True)\n",
        "    model =  create_model_alpha()\n",
        "    k=0\n",
        "    for i in range(0,it1):\n",
        "        # print(f\"i iteration is : {i}\")\n",
        "        X = load_im(path, g * i, size = 256, number_to_load=1 )\n",
        "        Xtrain = np_resc(X)\n",
        "\n",
        "        history, model = train(model, 1, 10)\n",
        "        # training_eval(history)\n",
        "        for j in range(g):\n",
        "            # print(f\"i = {i}\")\n",
        "            # print(f\"j = {j}\")\n",
        "            # print(f\"shift is : {g*i+j}\")\n",
        "            img_tosave = coloring(model,path , shift = g*i+j, size = 256)\n",
        "            if type(img_tosave) == bool:\n",
        "              print(f\"break in j = {j}\")\n",
        "              break;\n",
        "            # imsave(f\"/content/drive/MyDrive/common_videos/results/{codename}_{g}g-10-1/result_{k}.jpg\",img_tosave)\n",
        "            k+=1\n",
        "    # model.save( f\"/content/drive/MyDrive/common_videos/results/model_{codename}_{g}g-10-1\")\n",
        "\n",
        "    t2 = time.time()\n",
        "    dt = t2 - t1\n",
        "    elapsed_times.append(dt)\n",
        "\n",
        "    # print(dt)\n",
        "    # p2 = f\"/content/drive/MyDrive/common_videos/results/{codename}_{g}g-10-1\"\n",
        "    # p1 = f\"/content/drive/MyDrive/common_videos/images/{codename}\"\n",
        "    # psnr_lab, psnr, psnr_r, psnr_g, psnr_b, ssim_ = psnr_analyze(p1, p2,0, 0, numOf_frame)\n",
        "    # results[f'psnr_lab_{g}'] = sum(psnr_lab)/len(psnr_lab)\n",
        "    # results[f'psnr_avg_{g}'] = sum(psnr)/len(psnr)\n",
        "    # results[f'psnr_r_avg_{g}'] = sum(psnr_r)/len(psnr_r)\n",
        "    # results[f'psnr_g_avg_{g}'] = sum(psnr_g)/len(psnr_g)\n",
        "    # results[f'psnr_b_avg_{g}'] = sum(psnr_b)/len(psnr_b)\n",
        "    # results[f'ssim_avg_{g}'] =sum(ssim_)/len(ssim_)\n",
        "print(elapsed_times)\n",
        "\n"
      ]
    },
    {
      "cell_type": "code",
      "execution_count": null,
      "metadata": {
        "colab": {
          "base_uri": "https://localhost:8080/"
        },
        "id": "I1YWOlEGe6Gi",
        "outputId": "d29fe7f0-0674-4f0b-cd2a-9740d3a508ef"
      },
      "outputs": [
        {
          "data": {
            "text/plain": [
              "300"
            ]
          },
          "execution_count": 23,
          "metadata": {},
          "output_type": "execute_result"
        }
      ],
      "source": [
        "k"
      ]
    },
    {
      "cell_type": "code",
      "execution_count": null,
      "metadata": {
        "colab": {
          "base_uri": "https://localhost:8080/"
        },
        "id": "Iu8JPv2PcLVn",
        "outputId": "6bc76f9e-7392-41be-bebe-0b70f563a8d3"
      },
      "outputs": [
        {
          "name": "stdout",
          "output_type": "stream",
          "text": [
            "[57.17202517891868]\n",
            "[0.0]\n",
            "1\n"
          ]
        }
      ],
      "source": [
        "from siti_tools.siti import calculate_si_ti\n",
        "\n",
        "si_values, ti_values, frame_count = calculate_si_ti(\"/content/drive/MyDrive/common_videos/videos/wildfire.mp4\")\n",
        "print(si_values)\n",
        "print(ti_values)\n",
        "print(frame_count)\n",
        "wildfire_time = [69.15024876594543, 56.95998525619507, 53.2674343585968, 50.926652908325195, 49.925819396972656, 49.11827063560486]\n"
      ]
    },
    {
      "cell_type": "code",
      "execution_count": null,
      "metadata": {
        "colab": {
          "base_uri": "https://localhost:8080/"
        },
        "id": "LTNAsPPmQG7G",
        "outputId": "c10a9b94-7244-4303-9ae3-4bbdf2b121dc"
      },
      "outputs": [
        {
          "data": {
            "text/plain": [
              "270"
            ]
          },
          "execution_count": 15,
          "metadata": {},
          "output_type": "execute_result"
        }
      ],
      "source": [
        "k"
      ]
    },
    {
      "cell_type": "code",
      "execution_count": null,
      "metadata": {
        "colab": {
          "base_uri": "https://localhost:8080/",
          "height": 453
        },
        "id": "-oMe-zna-AHY",
        "outputId": "2a0ed65d-516c-400f-fe35-76479a48ad1a"
      },
      "outputs": [
        {
          "name": "stderr",
          "output_type": "stream",
          "text": [
            "WARNING:matplotlib.font_manager:findfont: Font family ['Times New Roman'] not found. Falling back to DejaVu Sans.\n",
            "WARNING:matplotlib.font_manager:findfont: Font family ['Times New Roman'] not found. Falling back to DejaVu Sans.\n"
          ]
        },
        {
          "name": "stdout",
          "output_type": "stream",
          "text": [
            "[41.448389714278804, 41.5217927186826, 41.22481828773033, 41.23027971905069, 41.23376462817959, 40.770676004368305]\n",
            "[26.456956203601056, 26.641569407835405, 25.61816759822169, 25.616165646668893, 25.623005763012706, 24.526373594592062]\n",
            "[25.278643947437732, 25.478953454670453, 24.464547630297403, 24.48240838004425, 24.566408018453867, 23.200838969867288]\n",
            "[32.48855826750521, 32.618450290488695, 32.11116214040008, 32.10874428310911, 32.14891441910792, 31.215493369866557]\n",
            "[24.96250207300446, 25.146728288084464, 24.04366704873466, 24.00134526948207, 23.943785112891717, 23.099284506125066]\n",
            "[0.7835504669520649, 0.7845585748646702, 0.7820157935493938, 0.7752943392358472, 0.7808775038187442, 0.7470753326741437]\n"
          ]
        },
        {
          "data": {
            "image/png": "[encoded data removed]",
            "text/plain": [
              "<Figure size 432x288 with 1 Axes>"
            ]
          },
          "metadata": {},
          "output_type": "display_data"
        }
      ],
      "source": [
        "import matplotlib.pyplot as plt\n",
        "import numpy as np\n",
        "\n",
        "# Data for plotting\n",
        "s = []\n",
        "psnr_lab_avg = []\n",
        "psnr_avg = []\n",
        "psnr_r_avg = []\n",
        "psnr_g_avg = []\n",
        "psnr_b_avg = []\n",
        "ssim_avg = []\n",
        "\n",
        "t = [5, 10, 15, 20, 25, 30]\n",
        "for g in gop:\n",
        "    psnr_lab_avg.append(results[f'psnr_lab_{g}'])\n",
        "    psnr_avg.append(results[f'psnr_avg_{g}'])\n",
        "    psnr_r_avg.append(results[f'psnr_r_avg_{g}'])\n",
        "    psnr_g_avg.append(results[f'psnr_g_avg_{g}'])\n",
        "    psnr_b_avg.append(results[f'psnr_b_avg_{g}'])\n",
        "    ssim_avg.append(results[f'ssim_avg_{g}'])\n",
        "print(psnr_lab_avg)\n",
        "print(psnr_avg)\n",
        "print(psnr_r_avg)\n",
        "print(psnr_g_avg)\n",
        "print(psnr_b_avg)\n",
        "print(ssim_avg)\n",
        "\n",
        "plt.rcParams[\"font.family\"] = \"Times New Roman\"\n",
        "\n",
        "fig, ax1= plt.subplots()\n",
        "ax1.plot(t, psnr_lab_avg, 'bo',t,psnr_lab_avg,'k')\n",
        "\n",
        "ax1.set(xlabel='Number of Grayscale Images', ylabel='PSNR (dB)',\n",
        "       title='LAB PSNR')\n",
        "ax1.grid()\n",
        "plt.show()\n",
        "\n",
        "\n",
        "\n"
      ]
    },
    {
      "cell_type": "code",
      "execution_count": null,
      "metadata": {
        "id": "bumOWuMn3YA8"
      },
      "outputs": [],
      "source": [
        "[173.8852756023407, 210.8098738193512, 193.17346453666687, 221.21734929084778]\n"
      ]
    },
    {
      "cell_type": "code",
      "execution_count": null,
      "metadata": {
        "id": "3JuL_Ilc-hIM"
      },
      "outputs": [],
      "source": [
        "complete image : imgSize(e.g: 96*96)pixels  * 8 (bit/byte) * 10 byte/pixel    / 19200(bit/s) = 38.4 (sec)  \n",
        "one channel : 38.4 / 3  (sec)\n",
        "one full cycle (M frame): 1 complete image + M-1 one channel"
      ]
    },
    {
      "cell_type": "code",
      "execution_count": null,
      "metadata": {
        "colab": {
          "base_uri": "https://localhost:8080/",
          "height": 414
        },
        "id": "Z8AHxMNIkYEN",
        "outputId": "832a0ba3-4003-4016-f061-ead3fde9d6f8"
      },
      "outputs": [
        {
          "ename": "IsADirectoryError",
          "evalue": "ignored",
          "output_type": "error",
          "traceback": [
            "\u001b[0;31m---------------------------------------------------------------------------\u001b[0m",
            "\u001b[0;31mIsADirectoryError\u001b[0m                         Traceback (most recent call last)",
            "\u001b[0;32m<ipython-input-5-2f0429a64ecc>\u001b[0m in \u001b[0;36m<module>\u001b[0;34m()\u001b[0m\n\u001b[1;32m      1\u001b[0m \u001b[0mname\u001b[0m \u001b[0;34m=\u001b[0m \u001b[0;34m\"/content/drive/MyDrive/Dataset_wildfire_1/result/huge_fire_40ep\"\u001b[0m\u001b[0;34m\u001b[0m\u001b[0;34m\u001b[0m\u001b[0m\n\u001b[0;32m----> 2\u001b[0;31m \u001b[0moriginal\u001b[0m \u001b[0;34m=\u001b[0m \u001b[0mimg_to_array\u001b[0m\u001b[0;34m(\u001b[0m\u001b[0mload_img\u001b[0m\u001b[0;34m(\u001b[0m\u001b[0mname\u001b[0m\u001b[0;34m)\u001b[0m\u001b[0;34m)\u001b[0m\u001b[0;34m\u001b[0m\u001b[0;34m\u001b[0m\u001b[0m\n\u001b[0m\u001b[1;32m      3\u001b[0m \u001b[0moriginal\u001b[0m \u001b[0;34m=\u001b[0m \u001b[0moriginal\u001b[0m\u001b[0;34m[\u001b[0m\u001b[0;36m150\u001b[0m\u001b[0;34m:\u001b[0m\u001b[0;34m,\u001b[0m\u001b[0;34m:\u001b[0m\u001b[0;34m,\u001b[0m\u001b[0;34m:\u001b[0m\u001b[0;34m]\u001b[0m\u001b[0;34m\u001b[0m\u001b[0;34m\u001b[0m\u001b[0m\n\u001b[1;32m      4\u001b[0m \u001b[0moriginal\u001b[0m \u001b[0;34m=\u001b[0m \u001b[0moriginal\u001b[0m\u001b[0;34m[\u001b[0m\u001b[0;36m0\u001b[0m\u001b[0;34m:\u001b[0m\u001b[0;36m700\u001b[0m\u001b[0;34m,\u001b[0m\u001b[0;34m:\u001b[0m\u001b[0;34m,\u001b[0m\u001b[0;34m:\u001b[0m\u001b[0;34m]\u001b[0m\u001b[0;34m\u001b[0m\u001b[0;34m\u001b[0m\u001b[0m\n\u001b[1;32m      5\u001b[0m \u001b[0moriginal\u001b[0m \u001b[0;34m=\u001b[0m \u001b[0mresize\u001b[0m\u001b[0;34m(\u001b[0m\u001b[0moriginal\u001b[0m\u001b[0;34m,\u001b[0m\u001b[0;34m(\u001b[0m\u001b[0;36m256\u001b[0m\u001b[0;34m,\u001b[0m\u001b[0;36m256\u001b[0m\u001b[0;34m)\u001b[0m\u001b[0;34m)\u001b[0m\u001b[0;34m\u001b[0m\u001b[0;34m\u001b[0m\u001b[0m\n",
            "\u001b[0;32m/usr/local/lib/python3.7/dist-packages/keras/preprocessing/image.py\u001b[0m in \u001b[0;36mload_img\u001b[0;34m(path, grayscale, color_mode, target_size, interpolation)\u001b[0m\n\u001b[1;32m    312\u001b[0m   \"\"\"\n\u001b[1;32m    313\u001b[0m   return image.load_img(path, grayscale=grayscale, color_mode=color_mode,\n\u001b[0;32m--> 314\u001b[0;31m                         target_size=target_size, interpolation=interpolation)\n\u001b[0m\u001b[1;32m    315\u001b[0m \u001b[0;34m\u001b[0m\u001b[0m\n\u001b[1;32m    316\u001b[0m \u001b[0;34m\u001b[0m\u001b[0m\n",
            "\u001b[0;32m/usr/local/lib/python3.7/dist-packages/keras_preprocessing/image/utils.py\u001b[0m in \u001b[0;36mload_img\u001b[0;34m(path, grayscale, color_mode, target_size, interpolation)\u001b[0m\n\u001b[1;32m    111\u001b[0m         raise ImportError('Could not import PIL.Image. '\n\u001b[1;32m    112\u001b[0m                           'The use of `load_img` requires PIL.')\n\u001b[0;32m--> 113\u001b[0;31m     \u001b[0;32mwith\u001b[0m \u001b[0mopen\u001b[0m\u001b[0;34m(\u001b[0m\u001b[0mpath\u001b[0m\u001b[0;34m,\u001b[0m \u001b[0;34m'rb'\u001b[0m\u001b[0;34m)\u001b[0m \u001b[0;32mas\u001b[0m \u001b[0mf\u001b[0m\u001b[0;34m:\u001b[0m\u001b[0;34m\u001b[0m\u001b[0;34m\u001b[0m\u001b[0m\n\u001b[0m\u001b[1;32m    114\u001b[0m         \u001b[0mimg\u001b[0m \u001b[0;34m=\u001b[0m \u001b[0mpil_image\u001b[0m\u001b[0;34m.\u001b[0m\u001b[0mopen\u001b[0m\u001b[0;34m(\u001b[0m\u001b[0mio\u001b[0m\u001b[0;34m.\u001b[0m\u001b[0mBytesIO\u001b[0m\u001b[0;34m(\u001b[0m\u001b[0mf\u001b[0m\u001b[0;34m.\u001b[0m\u001b[0mread\u001b[0m\u001b[0;34m(\u001b[0m\u001b[0;34m)\u001b[0m\u001b[0;34m)\u001b[0m\u001b[0;34m)\u001b[0m\u001b[0;34m\u001b[0m\u001b[0;34m\u001b[0m\u001b[0m\n\u001b[1;32m    115\u001b[0m         \u001b[0;32mif\u001b[0m \u001b[0mcolor_mode\u001b[0m \u001b[0;34m==\u001b[0m \u001b[0;34m'grayscale'\u001b[0m\u001b[0;34m:\u001b[0m\u001b[0;34m\u001b[0m\u001b[0;34m\u001b[0m\u001b[0m\n",
            "\u001b[0;31mIsADirectoryError\u001b[0m: [Errno 21] Is a directory: '/content/drive/MyDrive/Dataset_wildfire_1/result/huge_fire_40ep'"
          ]
        }
      ],
      "source": [
        "name = \"/content/drive/MyDrive/Dataset_wildfire_1/result/huge_fire_40ep/frame0.jpg\"\n",
        "original = img_to_array(load_img(name))\n",
        "original = original[150:,:,:]\n",
        "original = original[0:700,:,:]\n",
        "original = resize(original,(256,256))\n",
        "imsave(\"/content/drive/MyDrive/Dataset_wildfire_1/result/temp/1.jpg\", original)"
      ]
    },
    {
      "cell_type": "code",
      "execution_count": null,
      "metadata": {
        "id": "wH0xVzQJ-R73"
      },
      "outputs": [],
      "source": [
        "  path = \"/content/drive/MyDrive/Dataset_wildfire_1/result/huge_fire_40ep/\"\n",
        "  list_of_files = os.listdir(path)\n",
        "  list_of_files = sorted(list_of_files, key=lambda f: int(f.split(f'{\"frame\"}')[1].split('.')[0]))\n",
        "  list_of_files"
      ]
    },
    {
      "cell_type": "markdown",
      "metadata": {
        "id": "X9cSnEBNcNAn"
      },
      "source": [
        "# data"
      ]
    },
    {
      "cell_type": "markdown",
      "metadata": {
        "id": "CwExmBwKn08a"
      },
      "source": [
        "#psnrhsvm"
      ]
    },
    {
      "cell_type": "code",
      "execution_count": null,
      "metadata": {
        "id": "eoreqqUen5o0"
      },
      "outputs": [],
      "source": [
        "import numpy as np\n",
        "from scipy import ndimage as ndi\n",
        "from matplotlib import pyplot as plt\n",
        "import matplotlib.cm as cm\n",
        "\n",
        "from skimage import data\n",
        "from skimage import color\n",
        "from skimage.util import view_as_blocks\n",
        "\n",
        "# Generated with SMOP  0.41\n",
        "# psnrhvsm.m\n",
        "import numpy as np\n",
        "import scipy as sp\n",
        "from scipy.fftpack import dct, dctn, idctn\n",
        "from skimage.util.shape import view_as_windows, view_as_blocks\n",
        "\n",
        "from PIL import Image\n",
        "\n",
        "def psnrhvsm(img1=None,img2=None,wstep=8,*args,**kwargs):\n",
        "    varargin = args\n",
        "    nargin = 2 + len(varargin)\n",
        "    verbose = True\n",
        "    p_hvs_m = 0 \n",
        "    p_hvs = 0\n",
        "    \n",
        "    '''\n",
        "    ========================================================================\n",
        "        \n",
        "        Calculation of PSNR-HVS-M and PSNR-HVS image quality measures\n",
        "        \n",
        "        PSNR-HVS-M is Peak Signal to Noise Ratio taking into account \n",
        "        Contrast Sensitivity Function (CSF) and between-coefficient   \n",
        "        contrast masking of DCT basis functions\n",
        "        PSNR-HVS is Peak Signal to Noise Ratio taking into account only CSF\n",
        "        \n",
        "         Copyright(c) 2006 Nikolay Ponomarenko \n",
        "          All Rights Reserved\n",
        "        \n",
        "         Homepage: http://ponomarenko.info, E-mail: nikolay{}ponomarenko.info\n",
        "        \n",
        "        ----------------------------------------------------------------------\n",
        "        \n",
        "        # Permission to use, copy, or modify this software and its documentation\n",
        "        for educational and research purposes only and without fee is hereby\n",
        "        granted, provided that this copyright notice and the original authors'\n",
        "        names appear on all copies and supporting documentation. This program\n",
        "        shall not be used, rewritten, or adapted as the basis of a commercial\n",
        "        software or hardware product without first obtaining permission of the\n",
        "        authors. The authors make no representations about the suitability of\n",
        "        this software for any purpose. It is provided \"as is\" without express\n",
        "         or implied warranty.\n",
        "        \n",
        "        #----------------------------------------------------------------------\n",
        "        \n",
        "        This is an implementation of the algorithm for calculating the PSNR-HVS-M\n",
        "        or PSNR-HVS between two images. Please refer to the following papers:\n",
        "       \n",
        "       # PSNR-HVS-M:\n",
        "         [1] Nikolay Ponomarenko, Flavia Silvestri, Karen Egiazarian, Marco Carli, \n",
        "             Jaakko Astola, Vladimir Lukin, \"On between-coefficient contrast masking \n",
        "             of DCT basis functions\", CD-ROM Proceedings of the Third International \n",
        "             Workshop on Video Processing and Quality Metrics for Consumer Electronics \n",
        "             VPQM-07, Scottsdale, Arizona, USA, 25-26 January, 2007, 4 p.\n",
        "           \n",
        "           # PSNR-HVS:\n",
        "         [2] K. Egiazarian, J. Astola, N. Ponomarenko, V. Lukin, F. Battisti, \n",
        "             M. Carli, New full-reference quality metrics based on HVS, CD-ROM \n",
        "             Proceedings of the Second International Workshop on Video Processing \n",
        "             and Quality Metrics, Scottsdale, USA, 2006, 4 p.\n",
        "       \n",
        "        Kindly report any suggestions or corrections to uagames{}mail.ru\n",
        "       \n",
        "       #----------------------------------------------------------------------\n",
        "       \n",
        "       # Input : (1) img1: the first image being compared\n",
        "                 (2) img2: the second image being compared\n",
        "                 (3) wstep: step of 8x8 window to calculate DCT \n",
        "                     coefficients. Default value is 8.\n",
        "           \n",
        "       # Output: (1) p_hvs_m: the PSNR-HVS-M value between 2 images.\n",
        "                     If one of the images being compared is regarded as \n",
        "                     perfect quality, then PSNR-HVS-M can be considered as the\n",
        "                     quality measure of the other image.\n",
        "                     If compared images are visually undistingwished, \n",
        "                     then PSNR-HVS-M = 100000.\n",
        "                 (2) p_hvs: the PSNR-HVS value between 2 images.\n",
        "        \n",
        "        # Default Usage:\n",
        "            Given 2 test images img1 and img2, whose dynamic range is 0-255\n",
        "        \n",
        "           [p_hvs_m, p_hvs] = psnrhvsm(img1, img2);\n",
        "        \n",
        "             See the results:\n",
        "            \n",
        "             p_hvs_m  # Gives the PSNR-HVS-M value\n",
        "             p_hvs    # Gives the PSNR-HVS value\n",
        "    ========================================================================\n",
        "    '''  \n",
        "    if nargin < 2:\n",
        "        p_hvs_m =- Inf\n",
        "        p_hvs =- Inf\n",
        "        print('returned on narngin')\n",
        "        return p_hvs_m,p_hvs\n",
        "    \n",
        "    if img1.size != img2.size:\n",
        "        p_hvs_m=- Inf\n",
        "        p_hvs=- Inf\n",
        "\n",
        "        print('returned on img seizes')\n",
        "        return p_hvs_m,p_hvs\n",
        "    \n",
        "    if nargin > 2:\n",
        "        step=wstep\n",
        "    else:\n",
        "        step=8\n",
        "    \n",
        "    #img1= img1.detach().cpu().clone().numpy()[0,:,:]\n",
        "    #img2= img2.detach().cpu().clone().numpy()[0,:,:]\n",
        "    #print(img1.shape)\n",
        "    #img1 = np.transpose(img1,[1,2,0])\n",
        "    #img2 = np.transpose(img2,[1,2,0])\n",
        "    \n",
        "    LenXY= img1.shape\n",
        "    print(LenXY)\n",
        "    LenX = LenXY\n",
        "    LenY = LenXY\n",
        "    print('lenx: {:.0f}, leny: {:.0f}'.format(LenX,LenY))\n",
        "\n",
        "    CSFCof=np.array([[1.608443, 2.339554, 2.573509, 1.608443, 1.072295, 0.643377, 0.504610, 0.421887],\n",
        "                   [2.144591, 2.144591, 1.838221, 1.354478, 0.989811, 0.443708, 0.428918, 0.467911],\n",
        "                   [1.838221, 1.979622, 1.608443, 1.072295, 0.643377, 0.451493, 0.372972, 0.459555],\n",
        "                   [1.838221, 1.513829, 1.169777, 0.887417, 0.504610, 0.295806, 0.321689, 0.415082],\n",
        "                   [1.429727, 1.169777, 0.695543, 0.459555, 0.378457, 0.236102, 0.249855, 0.334222],\n",
        "                   [1.072295, 0.735288, 0.467911, 0.402111, 0.317717, 0.247453, 0.227744, 0.279729],\n",
        "                   [0.525206, 0.402111, 0.329937, 0.295806, 0.249855, 0.212687, 0.214459, 0.254803],\n",
        "                   [0.357432, 0.279729, 0.270896, 0.262603, 0.229778, 0.257351, 0.249855, 0.25995]])\n",
        "    # see an explanation in [2]\n",
        "    \n",
        "    MaskCof=np.array([[0.390625, 0.826446, 1.000000, 0.390625, 0.173611, 0.062500, 0.038447, 0.026874],\n",
        "                    [0.694444, 0.694444, 0.510204, 0.277008, 0.147929, 0.029727, 0.027778, 0.033058],\n",
        "                    [0.510204, 0.591716, 0.390625, 0.173611, 0.062500, 0.030779, 0.021004, 0.031888],\n",
        "                    [0.510204, 0.346021, 0.206612, 0.118906, 0.038447, 0.013212, 0.015625, 0.026015],\n",
        "                    [0.308642, 0.206612, 0.073046, 0.031888, 0.021626, 0.008417, 0.009426, 0.016866],\n",
        "                    [0.173611, 0.081633, 0.033058, 0.024414, 0.015242, 0.009246, 0.007831, 0.011815],\n",
        "                    [0.041649, 0.024414, 0.016437, 0.013212, 0.009426, 0.006830, 0.006944, 0.009803],\n",
        "                    [0.019290, 0.011815, 0.011080, 0.010412, 0.007972, 0.010000, 0.009426, 0.010203]])\n",
        "    # see an explanation in [1]\n",
        "    \n",
        "    S1=0\n",
        "    S2=0\n",
        "    Num=0\n",
        "    X=0\n",
        "    Y=0\n",
        "    #while Y <= LenY - 7:\n",
        "    #    while X <= LenX - 7:\n",
        "            #rangeB = np.arange(Y,Y+7)\n",
        "            #rangeA = np.arange(X,X+7)\n",
        "    window_shape = (8, 8)\n",
        "    #TODO: PORT TO PYTHON HOW TO GET A WINDOW/patch from the array.\n",
        "    #A=img1[rangeA,rangeB]\n",
        "    #B=img2[rangeA,rangeB]\n",
        "\n",
        "    A = view_as_blocks(img1, window_shape)\n",
        "    B = view_as_blocks(img2, window_shape)\n",
        "    print('A shape:',A.shape)\n",
        "    num_patchsA = A.shape[0]\n",
        "    num_patchsB = B.shape[0]\n",
        "    for p in range(num_patchsA):\n",
        "        for py in range(num_patchsB):\n",
        "    #compute the 2d Discrete Cosine Transform\n",
        "            patchA = A[p][py]\n",
        "            patchB = B[p][py]\n",
        "            #print('patch a', patchA.shape)\n",
        "            #print('patch b', patchB.shape)\n",
        "            '''Thanks to \n",
        "            https://www.tu-ilmenau.de/fileadmin/public/mt_ams/GrundlagenDerVideotechnikb/Vorlesung/WS_2017-18/06_16-11-28DCT_-_English.pdf\n",
        "            that explains how dct work and should be modified for 2d images. \n",
        "            '''\n",
        "            #dct2(A)\n",
        "            a_dct=dct(patchA,type=2,axis=1,norm='ortho')\n",
        "            A_dct=dct(a_dct,type=2,axis=0,norm='ortho')\n",
        "            #dct2(B)\n",
        "            b_dct=dct(patchB,type=2,axis=1,norm='ortho')\n",
        "            B_dct=dct(b_dct,type=2,axis=0,norm='ortho')\n",
        "            \n",
        "            #print('A_dct: ', A_dct.shape)\n",
        "            #print('B_dct: ', B_dct.shape)\n",
        "            \n",
        "            MaskA=maskeff(patchA,A_dct)\n",
        "            MaskB=maskeff(patchB,B_dct)\n",
        "            #print('MaskA',MaskA.shape)\n",
        "            #print('MaskB',MaskB.shape)\n",
        "            if MaskB > MaskA:\n",
        "                MaskA= MaskB.copy()\n",
        "            #X=X + step\n",
        "            for k in range(7):\n",
        "                for l in range(7):\n",
        "                    u=abs(A_dct[k,l] - B_dct[k,l])\n",
        "                    S2=S2 + ((np.dot(u,CSFCof[k,l]))**2) #PSNR-hvs\n",
        "                    if (k != 1) or (l != 1):\n",
        "                        if u < MaskA / MaskCof[k,l]:\n",
        "                            u=0\n",
        "                        else:\n",
        "                            u=u - (MaskA / MaskCof[k,l])\n",
        "                    S1=S1 + ((np.dot(u,CSFCof[k,l]))** 2) # PSNR-HVS-M\n",
        "                    Num=Num + 1\n",
        "    \n",
        "    if Num != 0:\n",
        "        S1= S1/Num\n",
        "        S2= S2/Num\n",
        "        if S1 == 0:\n",
        "            p_hvs_m=100000\n",
        "            print(\"p_hvs_m=100000\")\n",
        "        else:\n",
        "            p_hvs_m= 10*(np.log10(255*(255/ S1)))\n",
        "            print('p_hvs_m: {:.0f}'.format(p_hvs_m))\n",
        "        if S2 == 0:\n",
        "            print(\"p_hvs=100000\")\n",
        "            p_hvs=100000\n",
        "        else:\n",
        "            p_hvs= 10*(np.log10(255*(255 / S2)))\n",
        "            print('p_hvs: {:.0f}'.format(p_hvs))\n",
        "    print('returned on end of loop')  \n",
        "    print(p_hvs_m)\n",
        "    print(p_hvs)\n",
        "    return p_hvs_m, p_hvs\n",
        "    \n",
        "    \n",
        "def maskeff(z=None,zdct=None,*args,**kwargs):\n",
        "    varargin = args\n",
        "    nargin = 2 + len(varargin)\n",
        "    \n",
        "    # Calculation of Enorm value (see [1])\n",
        "    m=0\n",
        "    MaskCof=np.array([[0.390625, 0.826446, 1.000000, 0.390625, 0.173611, 0.062500, 0.038447, 0.026874],\n",
        "                    [0.694444, 0.694444, 0.510204, 0.277008, 0.147929, 0.029727, 0.027778, 0.033058],\n",
        "                    [0.510204, 0.591716, 0.390625, 0.173611, 0.062500, 0.030779, 0.021004, 0.031888],\n",
        "                    [0.510204, 0.346021, 0.206612, 0.118906, 0.038447, 0.013212, 0.015625, 0.026015],\n",
        "                    [0.308642, 0.206612, 0.073046, 0.031888, 0.021626, 0.008417, 0.009426, 0.016866],\n",
        "                    [0.173611, 0.081633, 0.033058, 0.024414, 0.015242, 0.009246, 0.007831, 0.011815],\n",
        "                    [0.041649, 0.024414, 0.016437, 0.013212, 0.009426, 0.006830, 0.006944, 0.009803],\n",
        "                    [0.01929, 0.0118150, 0.011080, 0.010412, 0.007972, 0.010000, 0.009426, 0.010203]])\n",
        "    # see an explanation in [1]\n",
        "    \n",
        "    for k in range(7):\n",
        "        for l in range(7):\n",
        "            if (k != 1) or (l != 1):\n",
        "                m=m + np.dot((zdct[k,l] ** 2),MaskCof[k,l])\n",
        "    \n",
        "    pop=vari(z)\n",
        "    #print('pop: ', pop)\n",
        "    #print('z shape:', z.shape)\n",
        "    if pop != 0:\n",
        "        block1 = vari(z[0:3, 0:3])\n",
        "        block2 = vari(z[0:3, 4:7])\n",
        "        block3 = vari(z[4:7, 4:7])\n",
        "        block4 = vari(z[4:7, 0:3])\n",
        "        '''\n",
        "        print('block1', block1.shape)\n",
        "        print('block1', block2.shape)\n",
        "        print('block1', block3.shape)\n",
        "        print('block1', block4.shape)\n",
        "        '''\n",
        "        pop=(block1 + block2 + block3 + block4 ) / pop\n",
        "    \n",
        "    m=np.sqrt(np.dot(m,pop)) / 32\n",
        "\n",
        "    return m\n",
        "    \n",
        "def vari(AA=None,*args,**kwargs):\n",
        "    varargin = args\n",
        "    nargin = 1 + len(varargin)\n",
        "    flat = AA.flatten(order='C')\n",
        "    varia = np.var(flat)\n",
        "    #flat_sz = np.size(flat)\n",
        "    \n",
        "    #print(flat)\n",
        "    #print(varia)\n",
        "    #print(flat_sz)\n",
        "    d=np.dot(varia, flat.size)\n",
        "    return d\n",
        "\n",
        "\n",
        "def print_v(message='', verbose =False):\n",
        "    if verbose == True:\n",
        "        print(message)"
      ]
    },
    {
      "cell_type": "code",
      "execution_count": null,
      "metadata": {
        "colab": {
          "base_uri": "https://localhost:8080/",
          "height": 390
        },
        "id": "uVwSEpSbn_Gn",
        "outputId": "5f8e6b00-e264-4ffd-83ba-01244a85f441"
      },
      "outputs": [
        {
          "name": "stdout",
          "output_type": "stream",
          "text": [
            "(1, 256, 256, 3)\n",
            "(1, 256, 256, 3)\n"
          ]
        },
        {
          "ename": "TypeError",
          "evalue": "ignored",
          "output_type": "error",
          "traceback": [
            "\u001b[0;31m---------------------------------------------------------------------------\u001b[0m",
            "\u001b[0;31mTypeError\u001b[0m                                 Traceback (most recent call last)",
            "\u001b[0;32m<ipython-input-24-7bdf99b7429d>\u001b[0m in \u001b[0;36m<module>\u001b[0;34m()\u001b[0m\n\u001b[1;32m      4\u001b[0m \u001b[0mnoise\u001b[0m \u001b[0;34m=\u001b[0m \u001b[0mnp\u001b[0m\u001b[0;34m.\u001b[0m\u001b[0marray\u001b[0m\u001b[0;34m(\u001b[0m\u001b[0mimg_n\u001b[0m\u001b[0;34m)\u001b[0m\u001b[0;34m\u001b[0m\u001b[0;34m\u001b[0m\u001b[0m\n\u001b[1;32m      5\u001b[0m \u001b[0mprint\u001b[0m\u001b[0;34m(\u001b[0m\u001b[0mimask\u001b[0m\u001b[0;34m.\u001b[0m\u001b[0mshape\u001b[0m\u001b[0;34m)\u001b[0m\u001b[0;34m\u001b[0m\u001b[0;34m\u001b[0m\u001b[0m\n\u001b[0;32m----> 6\u001b[0;31m \u001b[0mpsnrhvsm\u001b[0m\u001b[0;34m(\u001b[0m\u001b[0mnoise\u001b[0m\u001b[0;34m,\u001b[0m\u001b[0mimask\u001b[0m\u001b[0;34m)\u001b[0m\u001b[0;34m\u001b[0m\u001b[0;34m\u001b[0m\u001b[0m\n\u001b[0m\u001b[1;32m      7\u001b[0m \u001b[0;34m\u001b[0m\u001b[0m\n\u001b[1;32m      8\u001b[0m \u001b[0mprint\u001b[0m\u001b[0;34m(\u001b[0m\u001b[0;34m'p_hvs_m: {:.0f} dB'\u001b[0m\u001b[0;34m.\u001b[0m\u001b[0mformat\u001b[0m\u001b[0;34m(\u001b[0m\u001b[0mp1\u001b[0m\u001b[0;34m)\u001b[0m\u001b[0;34m)\u001b[0m\u001b[0;34m\u001b[0m\u001b[0;34m\u001b[0m\u001b[0m\n",
            "\u001b[0;32m<ipython-input-23-d7e6411ec5d0>\u001b[0m in \u001b[0;36mpsnrhvsm\u001b[0;34m(img1, img2, wstep, *args, **kwargs)\u001b[0m\n\u001b[1;32m    125\u001b[0m     \u001b[0mLenX\u001b[0m \u001b[0;34m=\u001b[0m \u001b[0mLenXY\u001b[0m\u001b[0;34m\u001b[0m\u001b[0;34m\u001b[0m\u001b[0m\n\u001b[1;32m    126\u001b[0m     \u001b[0mLenY\u001b[0m \u001b[0;34m=\u001b[0m \u001b[0mLenXY\u001b[0m\u001b[0;34m\u001b[0m\u001b[0;34m\u001b[0m\u001b[0m\n\u001b[0;32m--> 127\u001b[0;31m     \u001b[0mprint\u001b[0m\u001b[0;34m(\u001b[0m\u001b[0;34m'lenx: {:.0f}, leny: {:.0f}'\u001b[0m\u001b[0;34m.\u001b[0m\u001b[0mformat\u001b[0m\u001b[0;34m(\u001b[0m\u001b[0mLenX\u001b[0m\u001b[0;34m,\u001b[0m\u001b[0mLenY\u001b[0m\u001b[0;34m)\u001b[0m\u001b[0;34m)\u001b[0m\u001b[0;34m\u001b[0m\u001b[0;34m\u001b[0m\u001b[0m\n\u001b[0m\u001b[1;32m    128\u001b[0m \u001b[0;34m\u001b[0m\u001b[0m\n\u001b[1;32m    129\u001b[0m     CSFCof=np.array([[1.608443, 2.339554, 2.573509, 1.608443, 1.072295, 0.643377, 0.504610, 0.421887],\n",
            "\u001b[0;31mTypeError\u001b[0m: unsupported format string passed to tuple.__format__"
          ]
        }
      ],
      "source": [
        "img_c = load_im(\"/content/drive/MyDrive/colabData_1/\", 0, 256,1)\n",
        "img_n = load_im(\"/content/drive/MyDrive/Dataset_wildfire_1/result/40ep_alpha_wm_big\", 0, 256, 1, split_phrase='_')\n",
        "imask = np.array(img_c)\n",
        "noise = np.array(img_n)\n",
        "print(imask.shape)\n",
        "psnrhvsm(noise,imask)\n",
        "\n",
        "print('p_hvs_m: {:.0f} dB'.format(p1))\n",
        "print('p_hvs: {:.0f} dB'.format(p2))"
      ]
    },
    {
      "cell_type": "code",
      "execution_count": null,
      "metadata": {
        "id": "6wHGJ53c6sa8"
      },
      "outputs": [],
      "source": []
    },
    {
      "cell_type": "code",
      "execution_count": null,
      "metadata": {
        "id": "x8Ge3u1x59qw"
      },
      "outputs": [],
      "source": []
    }
  ],
  "metadata": {
    "colab": {
      "collapsed_sections": [
        "K7DiLCAtKJoJ",
        "vo8I9_BzUHRG",
        "PlHqyYessJH6",
        "wzANsEZ-JnCq",
        "LiyygDpakXHX",
        "Sg6C5PuguJaI"
      ],
      "provenance": [],
      "mount_file_id": "14xLyXr_b78mJArYlal4eBVfylhtjbN2E",
      "authorship_tag": "ABX9TyOre/UARKxz63vHaJOHielU",
      "include_colab_link": true
    },
    "kernelspec": {
      "display_name": "Python 3",
      "name": "python3"
    },
    "language_info": {
      "name": "python"
    }
  },
  "nbformat": 4,
  "nbformat_minor": 0
}